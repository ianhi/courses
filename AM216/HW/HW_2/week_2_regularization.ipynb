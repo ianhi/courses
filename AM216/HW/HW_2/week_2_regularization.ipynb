{
 "cells": [
  {
   "cell_type": "code",
   "execution_count": 1,
   "metadata": {
    "collapsed": true
   },
   "outputs": [],
   "source": [
    "from sklearn import linear_model\n",
    "import numpy as np\n",
    "import matplotlib\n",
    "import matplotlib.pyplot as plt\n",
    "\n",
    "\n",
    "import scipy.optimize as spopt\n",
    "import sklearn\n",
    "import sklearn.linear_model"
   ]
  },
  {
   "cell_type": "markdown",
   "metadata": {},
   "source": [
    "### Generate Data to fit\n",
    "\n",
    "#### To keep it simple, we will generate data that comes from the function sin(x), for $-\\pi \\le x\\le pi$.\n",
    "\n",
    "We add noise (eps) to the signal, to emulate partial corruption. How the results below change as a function of the noise strength is of interest.\n",
    "\n",
    "One important concept that will pervade our efforts to do machine learning is to split the data into test data and training data. We will fit the model on the training data, but then we evaluate how well it works on the test data.\n",
    "We will see in what follows that even in simple linear problems like the one we are carrying out here, overfitting is possible. This means that the fitting function models the peculiarities of the (noisy) sample we have drawn and it doesnt generalize to more complex datasets.\n",
    "\n",
    "Building generalizable models is the crux of the matter"
   ]
  },
  {
   "cell_type": "code",
   "execution_count": 2,
   "metadata": {
    "collapsed": true
   },
   "outputs": [],
   "source": [
    "n=30  # number of points\n",
    "x_train= np.random.random(size=(n,1)).reshape(n,1)*np.pi*2-np.pi\n",
    "x_test=np.linspace(-np.pi,np.pi,100).reshape(100,1)"
   ]
  },
  {
   "cell_type": "code",
   "execution_count": 3,
   "metadata": {},
   "outputs": [
    {
     "data": {
      "text/plain": [
       "(30, 1)"
      ]
     },
     "execution_count": 3,
     "metadata": {},
     "output_type": "execute_result"
    }
   ],
   "source": [
    "x_train.shape"
   ]
  },
  {
   "cell_type": "code",
   "execution_count": 684,
   "metadata": {
    "collapsed": true
   },
   "outputs": [],
   "source": [
    "eps=0.1  # noise strength\n",
    "y=np.sin(x_train)+ eps*np.random.randn(n,1)\n"
   ]
  },
  {
   "cell_type": "code",
   "execution_count": 685,
   "metadata": {},
   "outputs": [
    {
     "data": {
      "image/png": "[encoded data removed]",
      "text/plain": [
       "<matplotlib.figure.Figure at 0x1155a0050>"
      ]
     },
     "metadata": {},
     "output_type": "display_data"
    }
   ],
   "source": [
    "plt.plot(x_train,y,'.')\n",
    "plt.plot(x_test,np.sin(x_test),'.')\n",
    "plt.show()"
   ]
  },
  {
   "cell_type": "markdown",
   "metadata": {},
   "source": [
    "### Now we move onto make Polynomial fits..."
   ]
  },
  {
   "cell_type": "code",
   "execution_count": 686,
   "metadata": {
    "collapsed": true
   },
   "outputs": [],
   "source": [
    "def poly_basis(X, d):\n",
    "    \"\"\"Returns a polynomial of degree d-1.  \n",
    "    \n",
    "    Args:\n",
    "        X: data array, that is n x 1\n",
    "        d: degree of the polynomial\n",
    "    Returns:\n",
    "        coefficient matrix of the polynomials n x d \"\"\"\n",
    "    return np.power(X, np.arange(0, d))"
   ]
  },
  {
   "cell_type": "code",
   "execution_count": 687,
   "metadata": {
    "collapsed": true
   },
   "outputs": [],
   "source": [
    "# Generate A matrix -- this is n x d, consisting of powers up to x^(d-1)\n",
    "d = 20\n",
    "A = poly_basis(x_train, d)"
   ]
  },
  {
   "cell_type": "code",
   "execution_count": 688,
   "metadata": {},
   "outputs": [
    {
     "data": {
      "text/plain": [
       "(30, 20)"
      ]
     },
     "execution_count": 688,
     "metadata": {},
     "output_type": "execute_result"
    }
   ],
   "source": [
    "A.shape"
   ]
  },
  {
   "cell_type": "code",
   "execution_count": 689,
   "metadata": {
    "collapsed": true
   },
   "outputs": [],
   "source": [
    "# Us sklearn to do linear regression\n",
    "answer = sklearn.linear_model.LinearRegression().fit(A, y)\n"
   ]
  },
  {
   "cell_type": "code",
   "execution_count": 690,
   "metadata": {
    "collapsed": true
   },
   "outputs": [],
   "source": [
    "# prediction of training answer\n",
    "y_train=answer.predict(poly_basis(x_train,d))"
   ]
  },
  {
   "cell_type": "code",
   "execution_count": 691,
   "metadata": {},
   "outputs": [
    {
     "data": {
      "image/png": "[encoded data removed]",
      "text/plain": [
       "<matplotlib.figure.Figure at 0x1165dd650>"
      ]
     },
     "metadata": {},
     "output_type": "display_data"
    }
   ],
   "source": [
    "plt.scatter(x_train,y_train)\n",
    "plt.plot(x_test,np.sin(x_test),'.',color='red')\n",
    "plt.show()"
   ]
  },
  {
   "cell_type": "markdown",
   "metadata": {},
   "source": [
    "### This seems good, no?\n",
    "\n",
    "Lets try to make predictions for a {\\it different} set of points."
   ]
  },
  {
   "cell_type": "code",
   "execution_count": 692,
   "metadata": {
    "collapsed": true
   },
   "outputs": [],
   "source": [
    "y_test=answer.predict(poly_basis(x_test,d))"
   ]
  },
  {
   "cell_type": "code",
   "execution_count": 693,
   "metadata": {},
   "outputs": [
    {
     "data": {
      "image/png": "[encoded data removed]",
      "text/plain": [
       "<matplotlib.figure.Figure at 0x1165fc9d0>"
      ]
     },
     "metadata": {},
     "output_type": "display_data"
    }
   ],
   "source": [
    "plt.scatter(x_test,y_test)\n",
    "plt.plot(x_test,np.sin(x_test),'.',color='red')\n",
    "plt.ylim((-2,2))\n",
    "plt.show()"
   ]
  },
  {
   "cell_type": "code",
   "execution_count": 694,
   "metadata": {},
   "outputs": [
    {
     "data": {
      "text/plain": [
       "array([[  0.00000000e+00,   8.08442978e-01,  -2.25686620e+00,\n",
       "          9.11425596e-01,   5.12380204e+00,  -1.80948981e+00,\n",
       "         -4.86192253e+00,   1.37437719e+00,   2.40686278e+00,\n",
       "         -5.63296005e-01,  -6.87060767e-01,   1.36112034e-01,\n",
       "          1.17311214e-01,  -1.99615121e-02,  -1.18224906e-02,\n",
       "          1.74707171e-03,   6.48200379e-04,  -8.39882652e-05,\n",
       "         -1.48988236e-05,   1.70811849e-06]])"
      ]
     },
     "execution_count": 694,
     "metadata": {},
     "output_type": "execute_result"
    }
   ],
   "source": [
    "answer.coef_"
   ]
  },
  {
   "cell_type": "markdown",
   "metadata": {},
   "source": [
    "## Regularization -- Ridge regression"
   ]
  },
  {
   "cell_type": "markdown",
   "metadata": {},
   "source": [
    "We are now optimizing $$|A x - y|^2 + \\lambda |x|^2$$"
   ]
  },
  {
   "cell_type": "code",
   "execution_count": 706,
   "metadata": {},
   "outputs": [
    {
     "data": {
      "text/plain": [
       "Ridge(alpha=1, copy_X=True, fit_intercept=False, max_iter=None,\n",
       "   normalize=False, random_state=None, solver='auto', tol=0.001)"
      ]
     },
     "execution_count": 706,
     "metadata": {},
     "output_type": "execute_result"
    }
   ],
   "source": [
    "ridge = linear_model.Ridge(alpha=1, fit_intercept=False)\n",
    "ridge.fit(A, y)"
   ]
  },
  {
   "cell_type": "code",
   "execution_count": 707,
   "metadata": {},
   "outputs": [
    {
     "data": {
      "text/plain": [
       "array([[ -2.18878345e-02,   5.65735103e-01,   2.80784300e-03,\n",
       "          2.17510350e-01,   3.37828594e-02,   4.62638403e-02,\n",
       "         -2.49398396e-04,  -4.15411511e-02,  -2.91330059e-02,\n",
       "         -4.58285779e-02,   1.57530800e-02,   3.26712581e-02,\n",
       "         -3.53850603e-03,  -8.38310102e-03,   3.98528380e-04,\n",
       "          1.06826527e-03,  -2.21534943e-05,  -6.80832412e-05,\n",
       "          4.80955380e-07,   1.73436295e-06]])"
      ]
     },
     "execution_count": 707,
     "metadata": {},
     "output_type": "execute_result"
    }
   ],
   "source": [
    "ridge.coef_"
   ]
  },
  {
   "cell_type": "code",
   "execution_count": 708,
   "metadata": {
    "collapsed": true
   },
   "outputs": [],
   "source": [
    "regularized_answer=ridge.predict(poly_basis(x_train,d))"
   ]
  },
  {
   "cell_type": "code",
   "execution_count": 709,
   "metadata": {},
   "outputs": [
    {
     "data": {
      "image/png": "[encoded data removed]",
      "text/plain": [
       "<matplotlib.figure.Figure at 0x111ef1310>"
      ]
     },
     "metadata": {},
     "output_type": "display_data"
    }
   ],
   "source": [
    "plt.scatter(x_train,regularized_answer)\n",
    "plt.plot(x_test,np.sin(x_test),'.',color='red')\n",
    "plt.ylim((-2,2))\n",
    "plt.show()"
   ]
  },
  {
   "cell_type": "code",
   "execution_count": 710,
   "metadata": {},
   "outputs": [
    {
     "data": {
      "image/png": "[encoded data removed]",
      "text/plain": [
       "<matplotlib.figure.Figure at 0x1143a28d0>"
      ]
     },
     "metadata": {},
     "output_type": "display_data"
    }
   ],
   "source": [
    "y_reg_test=ridge.predict(poly_basis(x_test,d))\n",
    "plt.scatter(x_test,y_reg_test)\n",
    "plt.plot(x_test,np.sin(x_test),'.',color='red')\n",
    "plt.ylim((-2,2))\n",
    "plt.show()"
   ]
  },
  {
   "cell_type": "markdown",
   "metadata": {},
   "source": [
    "### what goes wrong?\n",
    "\n",
    "Use SVD to examine the size of the singular values. See class discussion."
   ]
  },
  {
   "cell_type": "code",
   "execution_count": 711,
   "metadata": {
    "collapsed": true
   },
   "outputs": [],
   "source": [
    "U,S,V=np.linalg.svd(A)"
   ]
  },
  {
   "cell_type": "code",
   "execution_count": 712,
   "metadata": {},
   "outputs": [
    {
     "data": {
      "text/plain": [
       "array([  3.51938891e+09,   1.14716604e+09,   1.39220732e+07,\n",
       "         4.78063714e+06,   2.22687074e+05,   8.36715347e+04,\n",
       "         4.78938530e+03,   1.96756965e+03,   1.98937395e+02,\n",
       "         8.09371363e+01,   1.53130753e+01,   8.57635441e+00,\n",
       "         3.44591619e+00,   3.09405795e+00,   1.13930021e+00,\n",
       "         8.53906708e-01,   2.41888012e-01,   1.69165241e-01,\n",
       "         3.84411250e-02,   1.71204899e-02])"
      ]
     },
     "execution_count": 712,
     "metadata": {},
     "output_type": "execute_result"
    }
   ],
   "source": [
    "S"
   ]
  },
  {
   "cell_type": "markdown",
   "metadata": {},
   "source": [
    "The minimum singular value has a size of O(1e-3). This amplifies errors enormously"
   ]
  },
  {
   "cell_type": "markdown",
   "metadata": {},
   "source": [
    "### Lasso\n",
    "Another regularization procedure that uses L1 penalty instead"
   ]
  },
  {
   "cell_type": "code",
   "execution_count": 713,
   "metadata": {},
   "outputs": [
    {
     "data": {
      "text/plain": [
       "Lasso(alpha=0.1, copy_X=True, fit_intercept=True, max_iter=1000,\n",
       "   normalize=False, positive=False, precompute=False, random_state=None,\n",
       "   selection='cyclic', tol=0.0001, warm_start=False)"
      ]
     },
     "execution_count": 713,
     "metadata": {},
     "output_type": "execute_result"
    }
   ],
   "source": [
    "my_lasso = linear_model.Lasso(alpha=0.1)\n",
    "my_lasso.fit(A, y)"
   ]
  },
  {
   "cell_type": "code",
   "execution_count": 714,
   "metadata": {
    "collapsed": true
   },
   "outputs": [],
   "source": [
    "lasso_answer=my_lasso.predict(poly_basis(x_train,d))\n",
    "y_lasso_test=my_lasso.predict(poly_basis(x_test,d))"
   ]
  },
  {
   "cell_type": "code",
   "execution_count": 715,
   "metadata": {},
   "outputs": [
    {
     "data": {
      "image/png": "[encoded data removed]",
      "text/plain": [
       "<matplotlib.figure.Figure at 0x11474da90>"
      ]
     },
     "metadata": {},
     "output_type": "display_data"
    }
   ],
   "source": [
    "plt.scatter(x_train,lasso_answer)\n",
    "plt.plot(x_test,np.sin(x_test),'.',color='red')\n",
    "plt.ylim((-2,2))\n",
    "plt.show()"
   ]
  },
  {
   "cell_type": "code",
   "execution_count": 716,
   "metadata": {},
   "outputs": [
    {
     "data": {
      "image/png": "[encoded data removed]",
      "text/plain": [
       "<matplotlib.figure.Figure at 0x113b318d0>"
      ]
     },
     "metadata": {},
     "output_type": "display_data"
    }
   ],
   "source": [
    "plt.scatter(x_test,y_lasso_test)\n",
    "plt.plot(x_test,np.sin(x_test),'.',color='red')\n",
    "plt.ylim((-2,2))\n",
    "plt.show()"
   ]
  },
  {
   "cell_type": "markdown",
   "metadata": {},
   "source": [
    "### Random Matrix Theory\n",
    "\n",
    "What is odd about all of this regularization stuff is that we are imposing arbitrary cost functions on what was our particularly good problem. This is imposing constraints that are different than what we had thought about initially.\n",
    "\n",
    "Here is another approach: \n",
    "we showed in class that the solution to the overdetermined least squares problem is:\n",
    "\n",
    "inv(A^TA) * A^T y.\n",
    "\n",
    "We have also discussed how small singular values of A get us in trouble.\n",
    "\n",
    "Maybe we could therefore solve the problem by simply getting rid of the small singular values when carrying out this\n",
    "inversion?  It seems possible that by simply truncating the smallest eigenvalues, we could achieve the same goal without doing something arbitrary."
   ]
  },
  {
   "cell_type": "code",
   "execution_count": 717,
   "metadata": {
    "collapsed": true
   },
   "outputs": [],
   "source": [
    "# Generate an A matrix which is massively underdetermined, to see how this will go.\n",
    "d = 10\n",
    "A = poly_basis(x_train, d)"
   ]
  },
  {
   "cell_type": "code",
   "execution_count": 718,
   "metadata": {
    "collapsed": true
   },
   "outputs": [],
   "source": [
    "def approx_inverse(B,N,rhs):\n",
    "    \"\"\"approximately invert matrix cutting off the lower eigenvalues.\n",
    "    This computes the pseudo-inverse of the matrix B.T*B, and keeps the first N highest eigenvalues.\n",
    "    \n",
    "    Inputs:\n",
    "        B: Matrix that we want to invert.\n",
    "        N: How many of the top modes we want to keep.\n",
    "        rhs: right hand side we want to return inv(B)*rhs\n",
    "        \n",
    "    Returns:\n",
    "        inv(B)*rhs\"\"\"\n",
    "    \n",
    "    eigval,eigvec = np.linalg.eig(np.dot(B.T,B))\n",
    "    \n",
    "    mat=np.zeros(np.dot(B.T,B).shape)\n",
    "    for i in xrange(N):\n",
    "        mat = mat + np.outer(eigvec[:,i],eigvec[:,i])/eigval[i]\n",
    "        \n",
    "    return np.dot(mat,rhs)"
   ]
  },
  {
   "cell_type": "code",
   "execution_count": 727,
   "metadata": {
    "collapsed": true
   },
   "outputs": [],
   "source": [
    "# we compute the coefficients of the expansion by keeping a number of coefficients\n",
    "coeff=approx_inverse(A,10,np.dot(A.T,y))"
   ]
  },
  {
   "cell_type": "code",
   "execution_count": 728,
   "metadata": {
    "collapsed": true
   },
   "outputs": [],
   "source": [
    "dummy=poly_basis(x_test,d) # this generates the matrix of powers of x for each of the x_test points"
   ]
  },
  {
   "cell_type": "code",
   "execution_count": 729,
   "metadata": {
    "collapsed": true
   },
   "outputs": [],
   "source": [
    "yguess=np.dot(dummy,coeff)  # generate the set of guesses from this procedure."
   ]
  },
  {
   "cell_type": "code",
   "execution_count": 730,
   "metadata": {},
   "outputs": [
    {
     "data": {
      "image/png": "[encoded data removed]",
      "text/plain": [
       "<matplotlib.figure.Figure at 0x115a85850>"
      ]
     },
     "metadata": {},
     "output_type": "display_data"
    }
   ],
   "source": [
    "plt.scatter(x_test,yguess)\n",
    "plt.plot(x_test,np.sin(x_test),'.',color='red')\n",
    "plt.ylim((-2,2))\n",
    "plt.show()\n"
   ]
  },
  {
   "cell_type": "markdown",
   "metadata": {},
   "source": [
    "## Random Matrix Theory\n"
   ]
  },
  {
   "cell_type": "code",
   "execution_count": 588,
   "metadata": {
    "collapsed": true
   },
   "outputs": [],
   "source": [
    "M=np.random.randn(100,50)"
   ]
  },
  {
   "cell_type": "code",
   "execution_count": 600,
   "metadata": {
    "collapsed": true
   },
   "outputs": [],
   "source": [
    "m_cov=np.cov(M.T)"
   ]
  },
  {
   "cell_type": "code",
   "execution_count": 601,
   "metadata": {},
   "outputs": [
    {
     "data": {
      "text/plain": [
       "(50, 50)"
      ]
     },
     "execution_count": 601,
     "metadata": {},
     "output_type": "execute_result"
    }
   ],
   "source": [
    "m_cov.shape"
   ]
  },
  {
   "cell_type": "code",
   "execution_count": 602,
   "metadata": {
    "collapsed": true
   },
   "outputs": [],
   "source": [
    "eig,evec=np.linalg.eig(m_cov)"
   ]
  },
  {
   "cell_type": "code",
   "execution_count": 621,
   "metadata": {
    "collapsed": true
   },
   "outputs": [],
   "source": [
    "p=50\n",
    "n=100.\n",
    "gamma=p/n\n",
    "upper=np.power((1+np.sqrt(gamma)),2)\n",
    "lower=np.power((1-np.sqrt(gamma)),2)\n",
    "\n",
    "xx=np.linspace(lower,upper,100)\n",
    "MP=lambda x: np.sqrt(upper-x)*np.sqrt(x-lower)/(2*np.pi*x*gamma)"
   ]
  },
  {
   "cell_type": "code",
   "execution_count": 638,
   "metadata": {},
   "outputs": [
    {
     "data": {
      "image/png": "[encoded data removed]",
      "text/plain": [
       "<matplotlib.figure.Figure at 0x111ba9b50>"
      ]
     },
     "metadata": {},
     "output_type": "display_data"
    }
   ],
   "source": [
    "\n",
    "plt.hist(eig,normed=True)\n",
    "plt.plot(xx,MP(xx),c='r')\n",
    "plt.show()"
   ]
  },
  {
   "cell_type": "code",
   "execution_count": null,
   "metadata": {
    "collapsed": true
   },
   "outputs": [],
   "source": []
  }
 ],
 "metadata": {
  "kernelspec": {
   "display_name": "Python 3",
   "language": "python",
   "name": "python3"
  },
  "language_info": {
   "codemirror_mode": {
    "name": "ipython",
    "version": 3
   },
   "file_extension": ".py",
   "mimetype": "text/x-python",
   "name": "python",
   "nbconvert_exporter": "python",
   "pygments_lexer": "ipython3",
   "version": "3.6.3"
  }
 },
 "nbformat": 4,
 "nbformat_minor": 2
}
