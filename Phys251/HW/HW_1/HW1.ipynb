{
 "cells": [
  {
   "cell_type": "code",
   "execution_count": 15,
   "metadata": {},
   "outputs": [],
   "source": [
    "%matplotlib inline\n",
    "import matplotlib.pyplot as plt\n",
    "import numpy as np\n",
    "import scipy.sparse\n",
    "from scipy.sparse.linalg import spsolve\n",
    "from scipy.sparse import csc_matrix\n",
    "from tqdm import tqdm\n",
    "from matplotlib.collections import LineCollection\n",
    "from matplotlib.colors import ListedColormap, BoundaryNorm\n",
    "from cmocean.cm import phase as phase_cm"
   ]
  },
  {
   "cell_type": "code",
   "execution_count": 2,
   "metadata": {},
   "outputs": [],
   "source": [
    "def gauss(x,mu=.5,sigma=.09):\n",
    "    return 1/np.sqrt(2*np.pi*sigma**2)*np.exp((-(x-mu)**2)/(2*sigma**2))"
   ]
  },
  {
   "cell_type": "code",
   "execution_count": 3,
   "metadata": {},
   "outputs": [
    {
     "name": "stdout",
     "output_type": "stream",
     "text": [
      "[ True  True  True ..., False False False]\n"
     ]
    }
   ],
   "source": [
    "npts = 2000\n",
    "N = 1000 # number of time steps\n",
    "X = np.linspace(-10,10,npts)\n",
    "dx = X[1]-X[0]\n",
    "dt = .04\n",
    "print(X <-3)\n",
    "\n",
    "V = np.zeros(npts)\n",
    "V[X<-3]=10\n",
    "V[X>3]=10\n",
    "\n",
    "complex_I = np.ones(npts,complex)\n",
    "alpha = 1j * dt/(2*dx**2)*complex_I\n",
    "xi = complex_I+1j*dt/2*(2/(dx**2)*complex_I + V) \n",
    "diags = np.array([-1,0,1])\n",
    "vecs1 =np.array([-alpha,xi,-alpha])\n",
    "vecs2 =np.array([alpha,2-xi,alpha])\n",
    "U1 = scipy.sparse.spdiags(vecs1,diags,npts,npts)\n",
    "U2 = scipy.sparse.spdiags(vecs2,diags,npts,npts)\n",
    "U1.tocsc()\n",
    "U2.tocsc()\n",
    "psi = np.zeros((npts,N),complex)\n",
    "psi[:,0] = gauss(X,mu=0,sigma=1)+0j"
   ]
  },
  {
   "cell_type": "code",
   "execution_count": 4,
   "metadata": {},
   "outputs": [
    {
     "data": {
      "image/png": "[encoded data removed]",
      "text/plain": [
       "<Figure size 432x288 with 1 Axes>"
      ]
     },
     "metadata": {},
     "output_type": "display_data"
    }
   ],
   "source": [
    "plt.plot(X,V,label='V')\n",
    "plt.plot(X,10*np.abs(psi[:,0]))\n",
    "plt.legend()\n",
    "plt.show()"
   ]
  },
  {
   "cell_type": "code",
   "execution_count": 5,
   "metadata": {},
   "outputs": [],
   "source": [
    "for n in range(N-1):\n",
    "    b = U2.dot(psi[:,n])\n",
    "    psi[:,n+1] = spsolve(csc_matrix(U1),b)"
   ]
  },
  {
   "cell_type": "code",
   "execution_count": 7,
   "metadata": {},
   "outputs": [
    {
     "name": "stderr",
     "output_type": "stream",
     "text": [
      "100%|██████████| 1000/1000 [03:14<00:00,  5.13it/s]\n"
     ]
    }
   ],
   "source": [
    "iterable = tqdm(range(N))\n",
    "for i in iterable:\n",
    "    plt.figure()\n",
    "    plt.plot(X,V,label='V')\n",
    "    plt.plot(X,10*np.abs(psi[:,i]),label=r'$\\psi$')\n",
    "    plt.legend(fontsize=20)\n",
    "    plt.savefig('{:03d}.png'.format(i))\n",
    "    plt.close()\n",
    "    "
   ]
  },
  {
   "cell_type": "code",
   "execution_count": 8,
   "metadata": {},
   "outputs": [
    {
     "data": {
      "text/plain": [
       "[<matplotlib.lines.Line2D at 0x7f6052825860>]"
      ]
     },
     "execution_count": 8,
     "metadata": {},
     "output_type": "execute_result"
    },
    {
     "data": {
      "image/png": "[encoded data removed]",
      "text/plain": [
       "<Figure size 432x288 with 1 Axes>"
      ]
     },
     "metadata": {},
     "output_type": "display_data"
    }
   ],
   "source": [
    "plt.plot(X,10*np.abs(psi[:,500]),label=r'$\\psi$')\n",
    "plt.plot(X,V,label='V')\n"
   ]
  },
  {
   "cell_type": "code",
   "execution_count": 17,
   "metadata": {},
   "outputs": [
    {
     "name": "stderr",
     "output_type": "stream",
     "text": [
      "\n",
      "\n",
      "\n",
      "\n",
      "  0%|          | 0/1000 [00:00<?, ?it/s]\u001b[A\u001b[A\u001b[A\u001b[A"
     ]
    }
   ],
   "source": [
    "iterable = tqdm(range(N))\n",
    "for i in range(N):\n",
    "    fig = plt.figure(figsize=(12,8))\n",
    "    plt.plot(X,V,label='V')\n",
    "    \n",
    "    points = np.array([X,10*np.abs(psi[:,i])]).T.reshape(-1, 1, 2)\n",
    "    segments = np.concatenate([points[:-1], points[1:]], axis=1)\n",
    "\n",
    "    axs = plt.gca()\n",
    "    norm = plt.Normalize(-np.pi, np.pi)\n",
    "    lc = LineCollection(segments, cmap=phase_cm, norm=norm)\n",
    "    lc.set_array(np.angle(psi[:,i]))\n",
    "    lc.set_linewidth(6)\n",
    "    line = axs.add_collection(lc)\n",
    "    fig.colorbar(line, ax=axs,label='Phase')\n",
    "    plt.tight_layout()\n",
    "    plt.savefig('{:03d}_phase.png'.format(i),dpi=250)\n",
    "    plt.close()"
   ]
  },
  {
   "cell_type": "code",
   "execution_count": 16,
   "metadata": {},
   "outputs": [
    {
     "ename": "SyntaxError",
     "evalue": "invalid syntax (<ipython-input-16-349de09134d8>, line 7)",
     "output_type": "error",
     "traceback": [
      "\u001b[0;36m  File \u001b[0;32m\"<ipython-input-16-349de09134d8>\"\u001b[0;36m, line \u001b[0;32m7\u001b[0m\n\u001b[0;31m    def plot_phase_line:\u001b[0m\n\u001b[0m                       ^\u001b[0m\n\u001b[0;31mSyntaxError\u001b[0m\u001b[0;31m:\u001b[0m invalid syntax\n"
     ]
    }
   ],
   "source": [
    "from matplotlib.collections import LineCollection\n",
    "from matplotlib.colors import ListedColormap, BoundaryNorm\n",
    "x = X\n",
    "y = 10*np.abs(psi[:,500])\n",
    "plt.plot(X,V,label='V')\n",
    "\n",
    "def plot_phase_line:\n",
    "    \n",
    "points = np.array([X, y]).T.reshape(-1, 1, 2)\n",
    "segments = np.concatenate([points[:-1], points[1:]], axis=1)\n",
    "\n",
    "axs = plt.gca()\n",
    "norm = plt.Normalize(-np.pi, np.pi)\n",
    "lc = LineCollection(segments, cmap=phase_cm, norm=norm)\n",
    "lc.set_array(np.angle(psi[:,500]))\n",
    "lc.set_linewidth(6)\n",
    "line = axs.add_collection(lc)\n",
    "fig.colorbar(line, ax=axs,label='Phase')\n",
    "\n",
    "axs.set_xlim(x.min(), x.max())\n",
    "plt.show()"
   ]
  },
  {
   "cell_type": "code",
   "execution_count": 144,
   "metadata": {},
   "outputs": [
    {
     "data": {
      "text/plain": [
       "-3.1415912042320739"
      ]
     },
     "execution_count": 144,
     "metadata": {},
     "output_type": "execute_result"
    }
   ],
   "source": [
    "np.angle(psi[:]).min()"
   ]
  },
  {
   "cell_type": "code",
   "execution_count": null,
   "metadata": {},
   "outputs": [],
   "source": []
  }
 ],
 "metadata": {
  "kernelspec": {
   "display_name": "Python 3",
   "language": "python",
   "name": "python3"
  },
  "language_info": {
   "codemirror_mode": {
    "name": "ipython",
    "version": 3
   },
   "file_extension": ".py",
   "mimetype": "text/x-python",
   "name": "python",
   "nbconvert_exporter": "python",
   "pygments_lexer": "ipython3",
   "version": "3.6.3"
  }
 },
 "nbformat": 4,
 "nbformat_minor": 2
}
