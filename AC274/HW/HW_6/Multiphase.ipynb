{
 "cells": [
  {
   "cell_type": "code",
   "execution_count": 1,
   "metadata": {
    "collapsed": true
   },
   "outputs": [],
   "source": [
    "%matplotlib inline\n",
    "import numpy as np\n",
    "import matplotlib.pyplot as plt\n",
    "import matplotlib as mpl\n",
    "mpl.style.use(['fivethirtyeight', 'figsize'])\n",
    "_SAVEDIR_ = 'Tex/figures/'\n",
    "\n",
    "\n",
    "def prog_bar(cur_val,max_val,msg = \"\"):\n",
    "    import sys\n",
    "    sys.stdout.write('\\r')\n",
    "    eq = int(np.ceil(np.true_divide(cur_val*100,max_val*5)))\n",
    "    sys.stdout.write(\"[{:20s}] {}/{} {:}  \".format('='*eq, cur_val+1,max_val,msg))\n",
    "    sys.stdout.flush()\n"
   ]
  },
  {
   "cell_type": "code",
   "execution_count": null,
   "metadata": {
    "collapsed": true
   },
   "outputs": [],
   "source": [
    "def calc_macro(f,rho,u,v):\n",
    "    # f should be at a given time step\n",
    "    u[:,:] = 0\n",
    "    v[:,:] = 0\n",
    "    rho = np.sum(f,axis=0)\n",
    "    for k in range(9):\n",
    "        v += f[k]*ex[k]\n",
    "        u += f[k]*ey[k]\n",
    "    u=u/rho\n",
    "    v=v/rho\n",
    "    return rho, u ,v"
   ]
  }
 ],
 "metadata": {
  "anaconda-cloud": {},
  "kernelspec": {
   "display_name": "Python [conda root]",
   "language": "python",
   "name": "conda-root-py"
  },
  "language_info": {
   "codemirror_mode": {
    "name": "ipython",
    "version": 3
   },
   "file_extension": ".py",
   "mimetype": "text/x-python",
   "name": "python",
   "nbconvert_exporter": "python",
   "pygments_lexer": "ipython3",
   "version": "3.5.2"
  }
 },
 "nbformat": 4,
 "nbformat_minor": 1
}
