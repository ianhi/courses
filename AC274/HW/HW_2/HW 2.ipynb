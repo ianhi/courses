{
 "cells": [
  {
   "cell_type": "code",
   "execution_count": 1,
   "metadata": {
    "collapsed": true
   },
   "outputs": [],
   "source": [
    "%matplotlib inline\n",
    "import numpy as np\n",
    "import matplotlib.pyplot as plt"
   ]
  },
  {
   "cell_type": "markdown",
   "metadata": {},
   "source": [
    "# Now Explicit ADR"
   ]
  },
  {
   "cell_type": "code",
   "execution_count": 2,
   "metadata": {
    "collapsed": true
   },
   "outputs": [],
   "source": [
    "def _AD_matrix(cfld, cfla, PHI, NX, Nsteps):\n",
    "    T = np.zeros([NX,NX])\n",
    "    T[0][0] = 1\n",
    "    T[-1][-1] = 1\n",
    "    \n",
    "    a = cfld + cfla/2\n",
    "    b = cfld - cfla/2\n",
    "    c = 1-2*cfld\n",
    "\n",
    "    for n in range(1,NX-1):\n",
    "        T[n][n-1]=a\n",
    "        T[n][n]=c\n",
    "        T[n][n+1]=b\n",
    "        \n",
    "    f = np.zeros([Nsteps, NX])\n",
    "\n",
    "    sizex = 1\n",
    "    dx = 1. /NX\n",
    "#     print(dx)\n",
    "    x = np.linspace(0,1,NX)\n",
    "\n",
    "    sigma = .1*sizex\n",
    "    f[0][1:-1] = np.exp(-.5*np.power((x[1:-1]-sizex/2)/sigma,2))\n",
    "    f[0,0] = PHI\n",
    "    f[0,-1] = PHI\n",
    "    \n",
    "    return T,f\n"
   ]
  },
  {
   "cell_type": "markdown",
   "metadata": {},
   "source": [
    "## Let's do this with linear chemistry at first and constant advection"
   ]
  },
  {
   "cell_type": "code",
   "execution_count": 3,
   "metadata": {},
   "outputs": [],
   "source": [
    "\n",
    "def _ADR_matrix(cfld, cfla, kappa, PHI, NX, Nsteps):\n",
    "    T = np.zeros([NX,NX])\n",
    "    T[0][0] = 1\n",
    "    T[-1][-1] = 1\n",
    "    \n",
    "    a = cfld + cfla/2\n",
    "    b = cfld - cfla/2\n",
    "    c = 1-2*cfld + kappa\n",
    "\n",
    "    for n in range(1,NX-1):\n",
    "        T[n][n-1]=a\n",
    "        T[n][n]=c\n",
    "        T[n][n+1]=b\n",
    "        \n",
    "    f = np.zeros([Nsteps, NX])\n",
    "\n",
    "    sizex = 1\n",
    "    dx = 1. /NX\n",
    "    x = np.linspace(0,1,NX)\n",
    "\n",
    "    sigma = .1*sizex\n",
    "    f[0][1:-1] = np.exp(-.5*np.power((x[1:-1]-sizex/2)/sigma,2))\n",
    "    f[0,0] = PHI\n",
    "    f[0,-1] = PHI\n",
    "    \n",
    "    return T,f\n",
    "\n",
    "def _ADR_matrix_PBC(cfld, cfla, kappa, PHI, NX, Nsteps):\n",
    "\n",
    "    a = cfld + cfla/2\n",
    "    b = cfld - cfla/2\n",
    "    c = 1-2*cfld + kappa\n",
    "\n",
    "    T = np.zeros([NX,NX])\n",
    "    T[0][0] = c\n",
    "    T[-1][-1] = c\n",
    "    \n",
    "    T[0][1] = b\n",
    "    T[-1][-2] = a\n",
    "    \n",
    "    T[0][-1] = a\n",
    "    T[-1][0] = b\n",
    "    \n",
    "    for n in range(1,NX-1):\n",
    "        T[n][n-1]=a\n",
    "        T[n][n]=c\n",
    "        T[n][n+1]=b\n",
    "        \n",
    "    f = np.zeros([Nsteps, NX])\n",
    "\n",
    "    sizex = 1\n",
    "    dx = 1. /NX\n",
    "    x = np.linspace(0,1,NX)\n",
    "\n",
    "    sigma = .1*sizex\n",
    "    f[0][:] = np.exp(-.5*np.power((x[:]-sizex/2)/sigma,2))\n",
    "\n",
    "    print(T)\n",
    "    return T,f\n",
    "def ADR_with_history(cfld, cfla, kappa, PHI, NX, Nsteps):\n",
    "    T,f = _ADR_matrix_PBC(cfld, cfla, kappa, PHI, NX, Nsteps)\n",
    "    dx    = 1/float(NX-1)\n",
    "    x = np.linspace(0,1,NX)\n",
    "\n",
    "    for t in range(1,Nsteps):\n",
    "        f[t] = np.dot(T,f[t-1])\n",
    "    return x, f\n",
    "def plot_10_percent(x,f):\n",
    "    lw = 2\n",
    "    \n",
    "    stepsize = np.floor(f.shape[0]/10)\n",
    "    plt.figure(figsize = (9,9))\n",
    "    # plt.plot(x,f[0],'k--',alpha = 1, lw = lw+.5,label = 0)\n",
    "    for step in np.arange(0,f.shape[0],stepsize):\n",
    "        plt.plot(x,f[step],'k',alpha = .9*step/f.shape[0]+.1, lw = lw, label = np.int(step))\n",
    "\n",
    "#     plt.ylim([0,1])\n",
    "    plt.xlabel('x')\n",
    "    plt.legend(fontsize = 14)\n",
    "    plt.show()\n",
    "# %time diffusion_fast(.4,1,100,34000)\n",
    "def calc_H(f,dx):\n",
    "    tot = 0\n",
    "    for i in f.flatten():\n",
    "        tot += i*i*dx\n",
    "    return tot\n",
    "def calc_M0(f,dx):\n",
    "    tot =0\n",
    "    for i in f.flatten():\n",
    "        tot += i*dx\n",
    "    return tot\n",
    "def calc_M1(f,x,dx):\n",
    "    return np.dot(f,x*dx)\n",
    "\n",
    "def norm(x):\n",
    "    np.array(x)\n",
    "    x/=np.max(x)\n",
    "    return x\n",
    "def unit_H(f, dx, M0):\n",
    "    tot = 0 \n",
    "    for i in f.flatten():\n",
    "        tot += i*i**dx/M0\n",
    "    return tot\n",
    "def diag(x,f):\n",
    "    dx = x[1]-x[0]\n",
    "    list_H = []\n",
    "    list_M0 = []\n",
    "    list_M1 = []\n",
    "    list_unit_H = []\n",
    "    for i in range(len(f)-1):\n",
    "        list_H.append(calc_H(f[i],dx))\n",
    "        list_M0.append(calc_M0(f[i],dx))\n",
    "        list_M1.append(calc_M1(f[i],x,dx))\n",
    "        list_unit_H.append(unit_H(f[i],dx,list_M0[-1]))\n",
    "#     print(M0_prime)\n",
    "    print(list_H[1:6])\n",
    "    plt.figure(figsize =(9,9))\n",
    "    plt.plot(list(range(len(f)-1)),norm(list_H),'k',lw=5 , label = r\"$H_2$\")\n",
    "    plt.plot(list(range(len(f)-1)),norm(list_M0),':',lw=5 , label = r\"$M_0$\")\n",
    "#     plt.plot(list(range(len(f)-1)),norm(list_M0),':',lw=5 , label = r\"$M_0$\")\n",
    "    plt.plot(list(range(len(f)-1)),norm(list_unit_H),':',lw=5 , label = r\"$H/M0$\")\n",
    "\n",
    "#     plt.plot(list(range(len(f)-2)),norm(M0_prime),label = 'M0_prime')\n",
    "#     plt.plot(list(range(len(f)-1)),norm(list_M1),'--',lw=5 , label = r\"$M_1$\")\n",
    "#     print(np.array(list_M1)-np.array(list_M0))\n",
    "    print(norm(list_M1))\n",
    "    fs = 20\n",
    "    plt.ylabel(\"Normalized Value\",fontsize =fs)\n",
    "    plt.legend(fontsize = fs)\n",
    "\n",
    "    plt.xlabel(\"Time step\",fontsize = fs)\n",
    "    plt.show()\n",
    "    return list(range(len(f)-1)), list_M0, list_M1, list_H, list_unit_H\n",
    "def init(Nsteps, NX,sizeX):\n",
    "    sigma = .1*sizeX\n",
    "    x = np.linspace(0,sizeX,NX)\n",
    "    f = np.zeros([Nsteps, NX])\n",
    "    f[0][:] = np.exp(-.5*np.power((x[:]-sizeX/2)/sigma,2))\n",
    "    return x,f\n"
   ]
  },
  {
   "cell_type": "code",
   "execution_count": 4,
   "metadata": {},
   "outputs": [
    {
     "name": "stdout",
     "output_type": "stream",
     "text": [
      "5.10152025304e-05\n",
      "[[ 0.5         0.24772727  0.         ...,  0.          0.          0.25227273]\n",
      " [ 0.25227273  0.5         0.24772727 ...,  0.          0.          0.        ]\n",
      " [ 0.          0.25227273  0.5        ...,  0.          0.          0.        ]\n",
      " ..., \n",
      " [ 0.          0.          0.         ...,  0.5         0.24772727  0.        ]\n",
      " [ 0.          0.          0.         ...,  0.25227273  0.5         0.24772727]\n",
      " [ 0.24772727  0.          0.         ...,  0.          0.25227273  0.5       ]]\n"
     ]
    },
    {
     "ename": "IndexError",
     "evalue": "only integers, slices (`:`), ellipsis (`...`), numpy.newaxis (`None`) and integer or boolean arrays are valid indices",
     "output_type": "error",
     "traceback": [
      "\u001b[0;31m---------------------------------------------------------------------------\u001b[0m",
      "\u001b[0;31mIndexError\u001b[0m                                Traceback (most recent call last)",
      "\u001b[0;32m<ipython-input-4-62dd7560f7a2>\u001b[0m in \u001b[0;36m<module>\u001b[0;34m()\u001b[0m\n\u001b[1;32m     56\u001b[0m \u001b[0;32mfor\u001b[0m \u001b[0mit\u001b[0m \u001b[0;32min\u001b[0m \u001b[0mrange\u001b[0m\u001b[0;34m(\u001b[0m\u001b[0;36m1\u001b[0m\u001b[0;34m,\u001b[0m\u001b[0mNsteps\u001b[0m\u001b[0;34m)\u001b[0m\u001b[0;34m:\u001b[0m\u001b[0;34m\u001b[0m\u001b[0m\n\u001b[1;32m     57\u001b[0m     \u001b[0mf_AD\u001b[0m\u001b[0;34m[\u001b[0m\u001b[0mit\u001b[0m\u001b[0;34m]\u001b[0m \u001b[0;34m=\u001b[0m \u001b[0mnp\u001b[0m\u001b[0;34m.\u001b[0m\u001b[0mdot\u001b[0m\u001b[0;34m(\u001b[0m\u001b[0mT_base\u001b[0m\u001b[0;34m,\u001b[0m\u001b[0mf_AD\u001b[0m\u001b[0;34m[\u001b[0m\u001b[0mit\u001b[0m\u001b[0;34m-\u001b[0m\u001b[0;36m1\u001b[0m\u001b[0;34m]\u001b[0m\u001b[0;34m)\u001b[0m\u001b[0;34m\u001b[0m\u001b[0m\n\u001b[0;32m---> 58\u001b[0;31m \u001b[0mplot_10_percent\u001b[0m\u001b[0;34m(\u001b[0m\u001b[0mx\u001b[0m\u001b[0;34m,\u001b[0m\u001b[0mf\u001b[0m\u001b[0;34m)\u001b[0m\u001b[0;34m\u001b[0m\u001b[0m\n\u001b[0m\u001b[1;32m     59\u001b[0m \u001b[0mplot_10_percent\u001b[0m\u001b[0;34m(\u001b[0m\u001b[0mx\u001b[0m\u001b[0;34m,\u001b[0m\u001b[0mf_AD\u001b[0m\u001b[0;34m)\u001b[0m\u001b[0;34m\u001b[0m\u001b[0m\n\u001b[1;32m     60\u001b[0m \u001b[0mout\u001b[0m \u001b[0;34m=\u001b[0m \u001b[0mdiag\u001b[0m\u001b[0;34m(\u001b[0m\u001b[0mx\u001b[0m\u001b[0;34m,\u001b[0m\u001b[0mf\u001b[0m\u001b[0;34m)\u001b[0m\u001b[0;34m\u001b[0m\u001b[0m\n",
      "\u001b[0;32m<ipython-input-3-35ffeec91d6a>\u001b[0m in \u001b[0;36mplot_10_percent\u001b[0;34m(x, f)\u001b[0m\n\u001b[1;32m     74\u001b[0m     \u001b[0;31m# plt.plot(x,f[0],'k--',alpha = 1, lw = lw+.5,label = 0)\u001b[0m\u001b[0;34m\u001b[0m\u001b[0;34m\u001b[0m\u001b[0m\n\u001b[1;32m     75\u001b[0m     \u001b[0;32mfor\u001b[0m \u001b[0mstep\u001b[0m \u001b[0;32min\u001b[0m \u001b[0mnp\u001b[0m\u001b[0;34m.\u001b[0m\u001b[0marange\u001b[0m\u001b[0;34m(\u001b[0m\u001b[0;36m0\u001b[0m\u001b[0;34m,\u001b[0m\u001b[0mf\u001b[0m\u001b[0;34m.\u001b[0m\u001b[0mshape\u001b[0m\u001b[0;34m[\u001b[0m\u001b[0;36m0\u001b[0m\u001b[0;34m]\u001b[0m\u001b[0;34m,\u001b[0m\u001b[0mstepsize\u001b[0m\u001b[0;34m)\u001b[0m\u001b[0;34m:\u001b[0m\u001b[0;34m\u001b[0m\u001b[0m\n\u001b[0;32m---> 76\u001b[0;31m         \u001b[0mplt\u001b[0m\u001b[0;34m.\u001b[0m\u001b[0mplot\u001b[0m\u001b[0;34m(\u001b[0m\u001b[0mx\u001b[0m\u001b[0;34m,\u001b[0m\u001b[0mf\u001b[0m\u001b[0;34m[\u001b[0m\u001b[0mstep\u001b[0m\u001b[0;34m]\u001b[0m\u001b[0;34m,\u001b[0m\u001b[0;34m'k'\u001b[0m\u001b[0;34m,\u001b[0m\u001b[0malpha\u001b[0m \u001b[0;34m=\u001b[0m \u001b[0;36m.9\u001b[0m\u001b[0;34m*\u001b[0m\u001b[0mstep\u001b[0m\u001b[0;34m/\u001b[0m\u001b[0mf\u001b[0m\u001b[0;34m.\u001b[0m\u001b[0mshape\u001b[0m\u001b[0;34m[\u001b[0m\u001b[0;36m0\u001b[0m\u001b[0;34m]\u001b[0m\u001b[0;34m+\u001b[0m\u001b[0;36m.1\u001b[0m\u001b[0;34m,\u001b[0m \u001b[0mlw\u001b[0m \u001b[0;34m=\u001b[0m \u001b[0mlw\u001b[0m\u001b[0;34m,\u001b[0m \u001b[0mlabel\u001b[0m \u001b[0;34m=\u001b[0m \u001b[0mnp\u001b[0m\u001b[0;34m.\u001b[0m\u001b[0mint\u001b[0m\u001b[0;34m(\u001b[0m\u001b[0mstep\u001b[0m\u001b[0;34m)\u001b[0m\u001b[0;34m)\u001b[0m\u001b[0;34m\u001b[0m\u001b[0m\n\u001b[0m\u001b[1;32m     77\u001b[0m \u001b[0;34m\u001b[0m\u001b[0m\n\u001b[1;32m     78\u001b[0m \u001b[0;31m#     plt.ylim([0,1])\u001b[0m\u001b[0;34m\u001b[0m\u001b[0;34m\u001b[0m\u001b[0m\n",
      "\u001b[0;31mIndexError\u001b[0m: only integers, slices (`:`), ellipsis (`...`), numpy.newaxis (`None`) and integer or boolean arrays are valid indices"
     ]
    },
    {
     "data": {
      "text/plain": [
       "<matplotlib.figure.Figure at 0x7f68381ed978>"
      ]
     },
     "metadata": {},
     "output_type": "display_data"
    }
   ],
   "source": [
    "dif = 0.5\n",
    "vel = 0.9\n",
    "sizeX = 1\n",
    "Nsteps = 5000\n",
    "NX = 100\n",
    "dx = sizeX/(NX-1)\n",
    "x = np.linspace(0,sizeX,NX)\n",
    "sigma = .1*sizeX\n",
    "\n",
    "f = np.zeros([Nsteps, NX])\n",
    "f_AD = np.zeros([Nsteps, NX])\n",
    "f[0][:] = np.exp(-.5*np.power((x[:]-sizeX/2)/sigma,2))\n",
    "f_AD[0][:] = np.exp(-.5*np.power((x[:]-sizeX/2)/sigma,2))\n",
    "\n",
    "logis_a = 10\n",
    "logis_b = 7\n",
    "dt_dif  = dx*dx/dif\n",
    "dt_adv  = dx/vel \n",
    "if logis_a != 0:\n",
    "    dt_chem = 1/logis_a\n",
    "dt = .25*np.min([dt_dif, dt_adv, dt_chem])\n",
    "\n",
    "alpha = vel*dt/dx\n",
    "delta = dif*dt/(dx*dx)\n",
    "# with logistic kappa will be constantly changing\n",
    "#kappa = \n",
    "print(dt)\n",
    "\n",
    "a = delta + .5*alpha\n",
    "b = delta -.5*alpha\n",
    "c = 1-a-b\n",
    "\n",
    "T_base = np.zeros([NX,NX])\n",
    "T_base[0][0] = c\n",
    "T_base[-1][-1] = c\n",
    "\n",
    "T_base[0][1] = b\n",
    "T_base[-1][-2] = a\n",
    "\n",
    "T_base[0][-1] = a\n",
    "T_base[-1][0] = b\n",
    "\n",
    "for n in range(1,NX-1):\n",
    "    T_base[n][n-1]=a\n",
    "    T_base[n][n]=c\n",
    "    T_base[n][n+1]=b\n",
    "    \n",
    "\n",
    "chem = (logis_a-logis_b)*f[0]*dt\n",
    "T = T_base +chem*np.identity(NX)\n",
    "print(T)\n",
    "for it in range(1,Nsteps):\n",
    "    chem = (logis_a-logis_b*f[it-1])*dt\n",
    "    T = T_base + chem*np.identity(NX)\n",
    "    f[it] = np.dot(T,f[it-1])\n",
    "for it in range(1,Nsteps):\n",
    "    f_AD[it] = np.dot(T_base,f_AD[it-1])\n",
    "plot_10_percent(x,f)\n",
    "plot_10_percent(x,f_AD)\n",
    "out = diag(x,f)\n",
    "out = diag(x,f_AD)"
   ]
  },
  {
   "cell_type": "code",
   "execution_count": null,
   "metadata": {
    "collapsed": true
   },
   "outputs": [],
   "source": []
  },
  {
   "cell_type": "code",
   "execution_count": null,
   "metadata": {},
   "outputs": [],
   "source": [
    "max_v = 825\n",
    "plt.plot(out[0][:max_v],out[1][:max_v])\n"
   ]
  },
  {
   "cell_type": "code",
   "execution_count": null,
   "metadata": {},
   "outputs": [],
   "source": [
    "a = delta + .5*alpha\n",
    "b = delta -.5*alpha\n",
    "c = 1-a-b\n",
    "\n",
    "T_base = np.zeros([NX,NX])\n",
    "T_base[0][0] = c\n",
    "T_base[-1][-1] = c\n",
    "\n",
    "T_base[0][1] = b\n",
    "T_base[-1][-2] = a\n",
    "\n",
    "T_base[0][-1] = a\n",
    "T_base[-1][0] = b\n",
    "\n",
    "for n in range(1,NX-1):\n",
    "    T_base[n][n-1]=a\n",
    "    T_base[n][n]=c\n",
    "    T_base[n][n+1]=b\n",
    "    \n",
    "\n",
    "chem = (logis_a-logis_b)*f[0]*dt\n",
    "T = T_base +chem*np.identity(NX)\n",
    "for it in range(1,Nsteps):\n",
    "    chem = (logis_a-logis_b)*f[it-1]*dt\n",
    "    T = T_base + chem*np.identity(NX)\n",
    "    f[it] = np.dot(T,f[it-1])\n",
    "plot_10_percent(x,f)\n",
    "out = diag(x,f)"
   ]
  },
  {
   "cell_type": "code",
   "execution_count": null,
   "metadata": {},
   "outputs": [],
   "source": [
    "tot = 0\n",
    "for i in range(NX):\n",
    "    tot += f[0][i]*x[i]*dx\n",
    "print(tot*4)"
   ]
  },
  {
   "cell_type": "code",
   "execution_count": null,
   "metadata": {},
   "outputs": [],
   "source": [
    "plt.plot(out[0],np.array(out[3])*4)\n",
    "# plt.plot(out[0][0:-1],out[2])\n",
    "# plt.plot(out[0],out[-1])"
   ]
  },
  {
   "cell_type": "code",
   "execution_count": null,
   "metadata": {},
   "outputs": [],
   "source": [
    "x,f = ADR_with_history(.2, .2, .005, 1,100, 500)\n",
    "print(f.shape)\n",
    "plot_10_percent(x,f)"
   ]
  },
  {
   "cell_type": "markdown",
   "metadata": {},
   "source": [
    "# Does chem commute with AD"
   ]
  },
  {
   "cell_type": "code",
   "execution_count": null,
   "metadata": {},
   "outputs": [],
   "source": [
    "a = delta + .5*alpha\n",
    "b = delta -.5*alpha\n",
    "c = 1-a-b\n",
    "\n",
    "T_base = np.zeros([NX,NX])\n",
    "T_base[0][0] = c\n",
    "T_base[-1][-1] = c\n",
    "\n",
    "T_base[0][1] = b\n",
    "T_base[-1][-2] = a\n",
    "\n",
    "T_base[0][-1] = a\n",
    "T_base[-1][0] = b\n",
    "\n",
    "for n in range(1,NX-1):\n",
    "    T_base[n][n-1]=a\n",
    "    T_base[n][n]=c\n",
    "    T_base[n][n+1]=b\n",
    "Nsteps = 5000\n",
    "x,f_AD_R = init(Nsteps, NX, sizeX)\n",
    "x,f_R_AD = init(Nsteps, NX, sizeX)\n",
    "logis_a = 10\n",
    "logis_b = 1\n",
    "\n",
    "for it in range(1,Nsteps):\n",
    "    chem = (logis_a-logis_b*f_AD_R[it-1])*dt\n",
    "    T_chem = np.identity(NX) + chem*np.identity(NX)\n",
    "    f_AD_R[it] = np.dot(T_base,f_AD_R[it-1])\n",
    "    f_AD_R[it] = np.dot(T_chem,f_AD_R[it])\n",
    "    \n",
    "for it in range(1,Nsteps):\n",
    "    chem = (logis_a-logis_b*f_R_AD[it-1])*dt\n",
    "    T_chem = np.identity(NX) + chem*np.identity(NX)\n",
    "    f_R_AD[it] = np.dot(T_chem,f_R_AD[it-1])\n",
    "    f_R_AD[it] = np.dot(T_base,f_R_AD[it])\n",
    "\n",
    "plot_10_percent(x,f_AD_R)\n",
    "plot_10_percent(x,f_R_AD)\n",
    "f_R_AD[-1]-f_AD_R[-1]"
   ]
  },
  {
   "cell_type": "code",
   "execution_count": null,
   "metadata": {},
   "outputs": [],
   "source": [
    "abs_dif = np.sum(np.abs(f_R_AD-f_AD_R),axis=1)\n",
    "rel_dif = np.sum(np.abs(f_R_AD-f_AD_R)/f_R_AD,axis=1)/f_R_AD.shape[1]\n",
    "plt.figure(figsize = (9,9))\n",
    "plt.plot(list(range(len(abs_dif))),rel_dif*100)\n",
    "plt.ylabel(\"% Difference\",fontsize = 16)\n",
    "plt.xlabel(\"Time Step\", fontsize = 16)\n",
    "plt.show()"
   ]
  },
  {
   "cell_type": "code",
   "execution_count": null,
   "metadata": {},
   "outputs": [],
   "source": [
    "print(abs_dif)"
   ]
  },
  {
   "cell_type": "markdown",
   "metadata": {
    "collapsed": true
   },
   "source": [
    "# Implicit Crank-Nicolson\n",
    "With doing chemistry then AD as separate steps because we can separate the operators"
   ]
  },
  {
   "cell_type": "code",
   "execution_count": null,
   "metadata": {},
   "outputs": [],
   "source": [
    "#start with just chemistry\n",
    "h = dt\n",
    "logis_a  = 10\n",
    "logis_b = 1\n",
    "Nsteps = 50000\n",
    "x,f = init(Nsteps = Nsteps, NX = 100, sizeX=1)\n",
    "\n",
    "def chem(f):\n",
    "    return logis_a*f-logis_b*f*f\n",
    "for it in range(Nsteps-2):\n",
    "    intermediate = f[it] + chem(f[it])*h\n",
    "    f[it+1] = f[it] + chem(f[it])*h/2+chem(intermediate)*h/2\n",
    "plot_10_percent(x,f)\n",
    "diag(x,f)"
   ]
  },
  {
   "cell_type": "code",
   "execution_count": null,
   "metadata": {},
   "outputs": [],
   "source": [
    "# exponential integration\n",
    "\n",
    "for it in range(1,Nsteps):\n",
    "    for j in range(NX):\n",
    "        "
   ]
  },
  {
   "cell_type": "markdown",
   "metadata": {},
   "source": [
    "# Simple ODE + Adaptive time stepping"
   ]
  },
  {
   "cell_type": "code",
   "execution_count": null,
   "metadata": {
    "scrolled": true
   },
   "outputs": [],
   "source": [
    "def calc_ode(t, h, x0):\n",
    "    N_steps = np.int(t/h)\n",
    "    x = np.zeros([N_steps+1])\n",
    "    t = np.linspace(0,1,N_steps+1)\n",
    "    x[0] = x0\n",
    "    for i in range(1,N_steps+1):\n",
    "        x[i] = h*x[i-1]**2+x[i-1]\n",
    "    return t,x\n",
    "def x_t(t,x0):\n",
    "    return x0/(1-x0*t)\n",
    "\n",
    "plt.figure(figsize=(9,9))\n",
    "t,x = calc_ode(1,.1,1)\n",
    "plt.plot(t,x,label = \"h = {:}\".format(t[1]-t[0]))\n",
    "\n",
    "t,x = calc_ode(1,.01,1)\n",
    "plt.plot(t,x,label = \"h = {:}\".format(t[1]-t[0]))\n",
    "\n",
    "t,x = calc_ode(1,.001,1)\n",
    "plt.plot(t,x,label = \"h = {:}\".format(t[1]-t[0]))\n",
    "\n",
    "\n",
    "t = np.linspace(0,.99,N_steps)\n",
    "plt.plot(t,x_t(t,x0),label = \"Analytic\")\n",
    "plt.ylim([0,100])\n",
    "plt.xlim([.6,1])\n",
    "plt.legend(fontsize = 16)"
   ]
  },
  {
   "cell_type": "code",
   "execution_count": null,
   "metadata": {},
   "outputs": [],
   "source": [
    "def calc_h(h_cur, h_old, q, epsilon, y_cur, y_old):\n",
    "    return q*(h_old-h_cur)*epsilon/np.abs(y_cur-y_abs)"
   ]
  },
  {
   "cell_type": "code",
   "execution_count": null,
   "metadata": {
    "collapsed": true
   },
   "outputs": [],
   "source": [
    "# adapative a la sauro\n",
    "\n",
    "\n",
    "def calc_ode_adap(t, epsilon, x0,q):\n",
    "    \n",
    "    h = epsilon*x0*q\n",
    "    x = np.zeros([N_steps+1])\n",
    "    time_list = [0]\n",
    "    n_steps = 0\n",
    "    x = [x0]\n",
    "    i = 0\n",
    "    while time_list[-1] < 1:\n",
    "        i += 1\n",
    "        time_list.append(time_list[-1]+h)\n",
    "        x.append(h*x[i-1]**2+x[i-1])\n",
    "        if h < epsilon/x[i]:\n",
    "            h = epsilon *q/ x[i]\n",
    "    return time_list,x"
   ]
  },
  {
   "cell_type": "code",
   "execution_count": null,
   "metadata": {
    "scrolled": true
   },
   "outputs": [],
   "source": [
    "plt.figure(figsize=(9,9))\n",
    "x0 = .8\n",
    "eps = .1\n",
    "t,x = calc_ode_adap(1,eps,x0,q=.9)\n",
    "print(len(t))\n",
    "plt.plot(t,x,label = r\"Adaptive, $\\epsilon = {:}$\".format(eps))\n",
    "\n",
    "eps = .01\n",
    "t,x = calc_ode_adap(1,eps,x0,q=.9)\n",
    "print(len(t))\n",
    "plt.plot(t,x,label = r\"Adaptive, $\\epsilon = {:}$\".format(eps))\n",
    "\n",
    "eps = .001\n",
    "t,x = calc_ode_adap(1,eps,x0,q=.9)\n",
    "print(len(t))\n",
    "plt.plot(t,x,label = r\"Adaptive, $\\epsilon = {:}$\".format(eps))\n",
    "\n",
    "\n",
    "t = np.linspace(0,1,N_steps)\n",
    "plt.plot(t,x_t(t,x0),label = \"Analytic\")\n",
    "# plt.ylim([0,100])\n",
    "# plt.xlim([.6,1])\n",
    "plt.ylabel(\"Value\",fontsize = 16)\n",
    "plt.xlabel(\"t\",fontsize = 16)\n",
    "plt.legend(fontsize = 16)"
   ]
  },
  {
   "cell_type": "markdown",
   "metadata": {},
   "source": [
    "# ADR in 2D"
   ]
  },
  {
   "cell_type": "code",
   "execution_count": null,
   "metadata": {
    "collapsed": true
   },
   "outputs": [],
   "source": [
    "def ADR_2D_update(t,f,i,j):\n",
    "    a = delta + alpha/2\n",
    "    b = delta - alpha/2\n",
    "    c = 1-4*cfld\n",
    "    f[t,i,j]  = a*f[t-1,i-1,j]+b*f[t-1,i+1,j]\n",
    "    f[t,i,j] += a*f[t-1,i,j-1]+b*f[t-1,i,j+1]\n",
    "    f[t,i,j] += c*f[t-1,i,j]\n",
    "    f[t,i,j] += (logis_a-logis_b*f[t-1][i][j])*f[t-1][i][j]"
   ]
  },
  {
   "cell_type": "code",
   "execution_count": null,
   "metadata": {},
   "outputs": [],
   "source": [
    "from scipy.stats import multivariate_normal\n",
    "from mpl_toolkits.mplot3d import Axes3D\n",
    "\n",
    "logis_b = 1\n",
    "Nsteps = 40\n",
    "NX = 100\n",
    "sizex  = 1.0 \n",
    "dif    = 1.0 \n",
    "\n",
    "\n",
    "dx    = sizex/float(NX-1)\n",
    "\n",
    "\n",
    "x = np.linspace(0,1,NX)\n",
    "f = np.zeros([Nsteps,NX,NX])\n",
    "PHI = 1\n",
    "D = 1\n",
    "# h \n",
    "cfld = .2\n",
    "\n",
    "\n",
    "#Parameters to set\n",
    "mu_x = np.mean(x)\n",
    "variance_x = .1\n",
    "\n",
    "mu_y = np.mean(x)\n",
    "variance_y = .1\n",
    "\n",
    "\n",
    "X, Y = np.meshgrid(x,x)\n",
    "pos = np.empty(X.shape + (2,))\n",
    "pos[:, :, 0] = X; pos[:, :, 1] = Y\n",
    "rv = multivariate_normal([mu_x, mu_y], [[variance_x, 0], [0, variance_y]])\n",
    "\n",
    "f[0] +=rv.pdf(pos)/np.max(rv.pdf(pos))\n",
    "f[0,0,:]  = PHI\n",
    "f[0,-1,:] = PHI\n",
    "f[0,:,0]  = PHI\n",
    "f[0,:,-1] = PHI\n",
    "\n",
    "# im=plt.imshow(data[None], aspect='auto',cmap=cmap, norm=norm)\n",
    "# cbar = plt.colorbar(im)\n",
    "# cbar\n",
    "plt.imshow(f[0],vmin=0,vmax=1)\n",
    "plt.colorbar()\n",
    "plt.show()\n",
    "\n",
    "def new_f_2D(Nsteps, NX, PHI):\n",
    "    f = np.zeros([Nsteps,NX,NX])\n",
    "    f[0]+=rv.pdf(pos)/np.max(rv.pdf(pos))*70\n",
    "    f[0,0,:]  = PHI\n",
    "    f[0,-1,:] = PHI\n",
    "    f[0,:,0]  = PHI\n",
    "    f[0,:,-1] = PHI\n",
    "    return f\n",
    "def loop_2D(f,PHI,Nsteps, NX):\n",
    "    for t in range(1,Nsteps):\n",
    "        #Dirichlet Boundary Conditions\n",
    "        f[t-1,0,:]  = PHI\n",
    "        f[t-1,-1,:] = PHI\n",
    "        f[t-1,:,0]  = PHI\n",
    "        f[t-1,:,-1] = PHI\n",
    "        # Updating \n",
    "        for i in range(1,NX-1):\n",
    "            for j in range(1,NX-1):\n",
    "                ADR_2D_update(t,f,i,j)"
   ]
  },
  {
   "cell_type": "code",
   "execution_count": null,
   "metadata": {
    "scrolled": true
   },
   "outputs": [],
   "source": [
    "\n",
    "loop_2D(f,PHI, Nsteps, NX)\n",
    "plt.imshow(f[0],vmin=0,vmax=1)\n",
    "plt.colorbar()\n",
    "plt.show()\n",
    "plt.imshow(f[-2],vmin=0,vmax=1)\n",
    "plt.colorbar()\n",
    "plt.show()\n",
    "diag(x,f)"
   ]
  },
  {
   "cell_type": "code",
   "execution_count": null,
   "metadata": {},
   "outputs": [],
   "source": [
    "plt.imshow(f[0],vmin=0,vmax=1)\n",
    "plt.colorbar()\n",
    "plt.show()\n",
    "plt.imshow(f[1],vmin=0,vmax=1)\n",
    "plt.colorbar()\n",
    "plt.show()\n",
    "diag(x,f)"
   ]
  },
  {
   "cell_type": "code",
   "execution_count": null,
   "metadata": {
    "collapsed": true
   },
   "outputs": [],
   "source": []
  }
 ],
 "metadata": {
  "anaconda-cloud": {},
  "kernelspec": {
   "display_name": "Python 3",
   "language": "python",
   "name": "python3"
  },
  "language_info": {
   "codemirror_mode": {
    "name": "ipython",
    "version": 3
   },
   "file_extension": ".py",
   "mimetype": "text/x-python",
   "name": "python",
   "nbconvert_exporter": "python",
   "pygments_lexer": "ipython3",
   "version": "3.6.1"
  }
 },
 "nbformat": 4,
 "nbformat_minor": 1
}
