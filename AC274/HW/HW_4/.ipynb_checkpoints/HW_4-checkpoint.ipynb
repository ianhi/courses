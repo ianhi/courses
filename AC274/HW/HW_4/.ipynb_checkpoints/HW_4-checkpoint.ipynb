{
 "cells": [
  {
   "cell_type": "code",
   "execution_count": 1,
   "metadata": {
    "collapsed": true
   },
   "outputs": [],
   "source": [
    "%matplotlib inline\n",
    "import numpy as np\n",
    "import matplotlib.pyplot as plt\n",
    "import matplotlib as mpl\n",
    "from lmfit.models import ExponentialModel\n",
    "mpl.style.use(['fivethirtyeight', 'figsize'])\n",
    "_SAVEDIR_ = 'Tex/figures/'"
   ]
  },
  {
   "cell_type": "code",
   "execution_count": 36,
   "metadata": {
    "collapsed": false
   },
   "outputs": [],
   "source": [
    "def _ADR_matrix_PBC(cfld, cfla, kappa, NX, Nsteps):\n",
    "    \"\"\"\n",
    "    To get DR matrix, just set cfla = 0\n",
    "    \"\"\"\n",
    "\n",
    "    a = cfld + cfla/2\n",
    "    b = cfld - cfla/2\n",
    "    c = 1-2*cfld + kappa\n",
    "\n",
    "    T = np.zeros([NX,NX])\n",
    "    T[0][0] = c\n",
    "    T[-1][-1] = c\n",
    "    \n",
    "    T[0][1] = b\n",
    "    T[-1][-2] = a\n",
    "    \n",
    "    T[0][-1] = a\n",
    "    T[-1][0] = b\n",
    "    \n",
    "    for n in range(1,NX-1):\n",
    "        T[n][n-1]=a\n",
    "        T[n][n]=c\n",
    "        T[n][n+1]=b\n",
    "        \n",
    "    f = np.zeros([Nsteps, NX])\n",
    "\n",
    "    sizex = 1\n",
    "    dx = 1. /NX\n",
    "    x = np.linspace(0,1,NX)\n",
    "\n",
    "    sigma = .1*sizex\n",
    "#     f[0][:] = np.exp(-.5*np.power((x[:]-sizex/2)/sigma,2))\n",
    "\n",
    "    print(T)\n",
    "    return T\n",
    "def ADR_with_history(x,f, pot, dt, cfld, cfla, NX, Nsteps):\n",
    "    T = _ADR_matrix_PBC(cfld, cfla, 0,  NX, Nsteps)\n",
    "    np.fill_diagonal(T,T.diagonal()-pot*dt)\n",
    "    dx    = np.abs(x[0]-x[1])\n",
    "    \n",
    "    for t in range(1,Nsteps):\n",
    "        f[t] = np.dot(T,f[t-1])\n",
    "    return x, f\n",
    "\n",
    "def plot_10_percent(x,f,show=True):\n",
    "    lw = 2\n",
    "    \n",
    "    stepsize = int(np.floor(f.shape[0]/10))\n",
    "    plt.figure(figsize = (9,9))\n",
    "    for step in np.arange(0,f.shape[0],stepsize):\n",
    "        plt.plot(x,f[step],'k',alpha = .9*step/f.shape[0]+.1, lw = lw, label = np.int(step))\n",
    "\n",
    "#     plt.ylim([0,1])\n",
    "    plt.xlabel('x')\n",
    "    plt.legend(fontsize = 14)\n",
    "    if show:\n",
    "        plt.show()\n",
    "def plot_decay(f,Nsteps,NX,label):\n",
    "    out = np.zeros([3,Nsteps])\n",
    "    for i in range(Nsteps):\n",
    "#         out[i] = np.sum(f[i]**2)\n",
    "        out[0][i] = np.abs(f[i,int(NX/4)])\n",
    "        out[1][i] = np.abs(f[i,int(NX/2)])\n",
    "        out[2][i] = np.abs(f[i,int(3*NX/4)])\n",
    "#         out[3][i] = f[i,int(NX/2)]\n",
    "    plt.plot(list(range(Nsteps)),out[0],label=\"{:} NX/4\".format(label))\n",
    "    plt.plot(list(range(Nsteps)),out[1],label=\"{:} NX/2\".format(label))\n",
    "    plt.plot(list(range(Nsteps)),out[2],label=\"{:} 3 NX/4\".format(label))\n",
    "    return out\n",
    "\n",
    "def do_fit(f,NX,Nsteps,dt,cut_low=8000,cut_high = -1):\n",
    "    out = np.zeros([NX,Nsteps])\n",
    "    mod = ExponentialModel()\n",
    "#     print(f[:,1].shape)\n",
    "#     cut = 40000\n",
    "\n",
    "\n",
    "    decays = np.zeros(NX)\n",
    "    pars =mod.guess(out[int(NX/4),:][cut_low:cut_high], x=np.array(range(Nsteps))[cut_low:cut_high]*dt)\n",
    "\n",
    "    for i in range(NX):\n",
    "        mod_out = mod.fit(out[i,:][cut_low:cut_high], pars, x=np.array(range(Nsteps))[cut_low:cut_high]*dt)\n",
    "        decays[i] = mod_out.best_values['decay']\n",
    "    return out,decays\n",
    "def do_fit(f,NX,Nsteps,dt,cut_low=8000,cut_high = -1):\n",
    "    out = np.zeros([NX,Nsteps])\n",
    "    mod = ExponentialModel()\n",
    "    print(f.shape)\n",
    "    out = f[cut_low:cut_high]\n",
    "    T = np.array(range(Nsteps))[cut_low:cut_high]*dt\n",
    "    print(out.shape)\n",
    "#     cut = 40000\n",
    "\n",
    "\n",
    "    decays = np.zeros(NX)\n",
    "    pars =mod.guess(out[:,int(NX/4)], x=T)\n",
    "\n",
    "    for i in range(NX):\n",
    "        mod_out = mod.fit(out[:,i], pars, x=T)\n",
    "        decays[i] = mod_out.best_values['decay']\n",
    "    return out,decays\n",
    "# Params\n",
    "Nsteps = 15000\n",
    "nx = 100\n",
    "NX = nx\n",
    "sizeX = 10\n",
    "x = np.linspace(-sizeX/2,sizeX/2,nx)\n",
    "f = np.zeros([Nsteps,nx])\n",
    "dx = x[1]-x[0]\n",
    "\n",
    "\n",
    "dif = 1\n",
    "vel = 0\n",
    "v_amp = 1.0 #omega**2\n",
    "\n",
    "cfl = .1 \n",
    "if dif != 0:\n",
    "    dtd = .5*dx**2/dif\n",
    "else:\n",
    "    dtd = 1.0\n",
    "if vel != 0:\n",
    "    dta = dx/vel\n",
    "else:\n",
    "    dta = 1\n",
    "if v_amp != 0:\n",
    "    dtc = 1/ (v_amp*sizeX**2)\n",
    "else:\n",
    "    dtc = 1\n",
    "\n",
    "dt = cfl * np.min([dtd,dta,dtc])\n",
    "\n",
    "alpha = vel*dt/dx\n",
    "delta = dif*dt/(dx*dx)\n",
    "\n"
   ]
  },
  {
   "cell_type": "code",
   "execution_count": 37,
   "metadata": {
    "collapsed": false
   },
   "outputs": [
    {
     "name": "stdout",
     "output_type": "stream",
     "text": [
      "0.000510152025304\n"
     ]
    }
   ],
   "source": [
    "print(dt)"
   ]
  },
  {
   "cell_type": "code",
   "execution_count": 38,
   "metadata": {
    "collapsed": false
   },
   "outputs": [
    {
     "name": "stdout",
     "output_type": "stream",
     "text": [
      "[[ 0.9   0.05  0.   ...,  0.    0.    0.05]\n",
      " [ 0.05  0.9   0.05 ...,  0.    0.    0.  ]\n",
      " [ 0.    0.05  0.9  ...,  0.    0.    0.  ]\n",
      " ..., \n",
      " [ 0.    0.    0.   ...,  0.9   0.05  0.  ]\n",
      " [ 0.    0.    0.   ...,  0.05  0.9   0.05]\n",
      " [ 0.05  0.    0.   ...,  0.    0.05  0.9 ]]\n",
      "Propagated\n",
      "(15000, 100)\n",
      "(6999, 100)\n"
     ]
    },
    {
     "data": {
      "image/png": "[encoded data removed]",
      "text/plain": [
       "<matplotlib.figure.Figure at 0x2b3ac81be48>"
      ]
     },
     "metadata": {},
     "output_type": "display_data"
    },
    {
     "data": {
      "image/png": "[encoded data removed]",
      "text/plain": [
       "<matplotlib.figure.Figure at 0x2b3ac7d77f0>"
      ]
     },
     "metadata": {},
     "output_type": "display_data"
    },
    {
     "name": "stdout",
     "output_type": "stream",
     "text": [
      "[[ 0.9   0.05  0.   ...,  0.    0.    0.05]\n",
      " [ 0.05  0.9   0.05 ...,  0.    0.    0.  ]\n",
      " [ 0.    0.05  0.9  ...,  0.    0.    0.  ]\n",
      " ..., \n",
      " [ 0.    0.    0.   ...,  0.9   0.05  0.  ]\n",
      " [ 0.    0.    0.   ...,  0.05  0.9   0.05]\n",
      " [ 0.05  0.    0.   ...,  0.    0.05  0.9 ]]\n",
      "Propagated\n",
      "(15000, 100)\n",
      "(6999, 100)\n"
     ]
    }
   ],
   "source": [
    "def compute(init,x,pot, delta, dt, Nsteps,NX):\n",
    "    f = np.zeros([Nsteps,NX])\n",
    "    f[0] = init\n",
    "    out = ADR_with_history(x,f,pot,dt,delta, 0,NX,Nsteps)\n",
    "    print(\"Propagated\")\n",
    "    decay_info = do_fit(out[1],NX,Nsteps,dt=dt)\n",
    "    energy = 1/np.average(decay_info[1])\n",
    "    return {'out':out,'energy':energy,'decay_info':decay_info}\n",
    "def norm(f,x=x):\n",
    "#     f /= np.sqrt(np.trapz(f**2,x))\n",
    "    return f/np.sqrt(np.trapz(f**2,x))\n",
    "def new_init(init,state):\n",
    "    init  /= np.sqrt(np.trapz(init**2,x))\n",
    "    state /= np.sqrt(np.trapz(state**2,x))\n",
    "    c = np.trapz(init*state,x)\n",
    "    new = init - c*state\n",
    "    new /= np.sqrt(np.trapz(new**2,x))\n",
    "    return c,new\n",
    "\n",
    "# init = np.zeros_like(x)+(1+4*x**2+3*x**4+4*x**9)*np.exp(-x**2)\n",
    "# Nsteps = 10000\n",
    "\n",
    "init = np.ones_like(x)\n",
    "init += np.random.rand(1)*x\n",
    "init += np.random.rand(1)*x**2\n",
    "init += np.random.rand(1)*x**3\n",
    "init += np.random.rand(1)*x**4\n",
    "init *= np.exp(-x**2)\n",
    "plt.plot(x,init)\n",
    "pot = x**2\n",
    "# plt.plot(x,init)\n",
    "gs = compute(init,x,pot,delta,dt,Nsteps,NX)\n",
    "init_2 = new_init(gs['out'][1][0],gs['out'][1][-1])[1]\n",
    "plot_10_percent(gs['out'][0],gs['out'][1])\n",
    "e1 = compute(init_2,x,pot,delta,dt,Nsteps,NX)"
   ]
  },
  {
   "cell_type": "code",
   "execution_count": 40,
   "metadata": {
    "collapsed": false
   },
   "outputs": [
    {
     "name": "stdout",
     "output_type": "stream",
     "text": [
      "0.999616605594\n",
      "2.99910104472\n"
     ]
    }
   ],
   "source": [
    "print(gs['energy'])\n",
    "print(e1['energy'])"
   ]
  },
  {
   "cell_type": "code",
   "execution_count": null,
   "metadata": {
    "collapsed": false
   },
   "outputs": [],
   "source": [
    "plot_10_percent(gs['out'][0],gs['out'][1],show=False)\n",
    "plt.xlabel('x')\n",
    "plt.ylabel('$\\psi$')\n",
    "plt.savefig(_SAVEDIR_+'ground_state_decay.png')\n",
    "\n",
    "plot_10_percent(e1['out'][0],e1['out'][1],show=False)\n",
    "plt.xlabel('x')\n",
    "plt.ylabel('$\\psi$')\n",
    "plt.savefig(_SAVEDIR_+'e1_state_decay.png')\n",
    "\n",
    "# plot_10_percent(gs['out'][0],gs['out'][1],show=False)\n",
    "# plt.savefig(_SAVEDIR_+'ground_state_prop.png')\n"
   ]
  },
  {
   "cell_type": "code",
   "execution_count": null,
   "metadata": {
    "collapsed": false
   },
   "outputs": [],
   "source": [
    "init = np.ones_like(x)\n",
    "init += np.random.rand(1)*x\n",
    "init += np.random.rand(1)*x**2\n",
    "init += np.random.rand(1)*x**3\n",
    "init += np.random.rand(1)*x**4\n",
    "init *= np.exp(-x**2)\n",
    "# plt.plot(x,init)\n",
    "plt.plot(x,init, label = 'Initial $\\psi$')\n",
    "# plt.plot(x,e1['out'][1][0],label='Excited State Calc Initial $\\psi$')\n",
    "plt.legend()\n",
    "plt.xlabel('x')\n",
    "plt.ylabel('$\\psi$')\n",
    "plt.savefig(_SAVEDIR_+\"ground_state_init.png\")"
   ]
  },
  {
   "cell_type": "code",
   "execution_count": null,
   "metadata": {
    "collapsed": false
   },
   "outputs": [],
   "source": [
    "# plt.plot(x,init, label = 'Initial $\\psi$')\n",
    "plt.plot(x,norm(e1['out'][1][-1]),label='Putative $\\phi_1$')\n",
    "plt.legend()\n",
    "plt.xlabel('x')\n",
    "plt.ylabel('$\\psi$')\n",
    "plt.savefig(_SAVEDIR_+\"phi1.png\")"
   ]
  },
  {
   "cell_type": "code",
   "execution_count": null,
   "metadata": {
    "collapsed": false
   },
   "outputs": [],
   "source": [
    "plt.plot(x,init, label = 'Initial $\\psi$')\n",
    "plt.plot(x,norm(gs['out'][1][-1]),label='ground state')\n",
    "plt.plot(x,norm(e1['out'][1][0]),label='Excited State Calc Initial $\\psi$')\n",
    "plt.legend()\n",
    "plt.xlabel('x')\n",
    "plt.ylabel('$\\psi$')\n",
    "plt.savefig(_SAVEDIR_+\"excited_init.png\")"
   ]
  },
  {
   "cell_type": "code",
   "execution_count": null,
   "metadata": {
    "collapsed": false
   },
   "outputs": [],
   "source": [
    "# plot_10_percent(e1['out'][0],e1['out'][1])\n",
    "e1 = compute(init_2,x,pot,delta,dt,300000,NX)\n",
    "plt.plot(x,norm(e1['out'][1][-2]))\n",
    "plt.plot(x,norm(e1['out'][1][-1]))\n"
   ]
  },
  {
   "cell_type": "code",
   "execution_count": null,
   "metadata": {
    "collapsed": true
   },
   "outputs": [],
   "source": [
    "def get_coeff(init, state):\n",
    "    init  /= np.sqrt(np.trapz(init**2,x))\n",
    "    state /= np.sqrt(np.trapz(state**2,x))\n",
    "    c = np.trapz(init*state,x)\n",
    "    return c\n",
    "def norm(f,x=x):\n",
    "    f /= np.sqrt(np.trapz(f**2,x))\n",
    "    return f\n",
    "\n",
    "c0 = get_coeff(init, gs['out'][1][-1])\n",
    "c1 = get_coeff(init, e1['out'][1][-1])\n",
    "init_3 = norm(init) - c0*norm(gs['out'][1][-1])-c1*norm(e1['out'][1][-1])\n"
   ]
  },
  {
   "cell_type": "code",
   "execution_count": null,
   "metadata": {
    "collapsed": false
   },
   "outputs": [],
   "source": [
    "plot_10_percent(e1['out'][0],e1['out'][1])\n",
    "init_3 = new_init(e1['out'][1][0],e1['out'][1][-1])[1]\n",
    "e2 = compute(init_3,x,pot,delta,dt,Nsteps,NX)\n",
    "plot_10_percent(e2['out'][0],e2['out'][1])\n",
    "print(1/e2['energy'])"
   ]
  },
  {
   "cell_type": "code",
   "execution_count": null,
   "metadata": {
    "collapsed": false
   },
   "outputs": [],
   "source": [
    "def get_coeff(init, state):\n",
    "    init  /= np.sqrt(np.trapz(init**2,x))\n",
    "    state /= np.sqrt(np.trapz(state**2,x))\n",
    "    c = np.trapz(init*state,x)\n",
    "    return c\n",
    "def norm(f,x=x):\n",
    "#     f /= np.sqrt(np.trapz(f**2,x))\n",
    "    return f /np.sqrt(np.trapz(f**2,x))\n",
    "\n",
    "c0 = get_coeff(init, gs['out'][1][-1])\n",
    "c1 = get_coeff(init, e1['out'][1][-1])\n",
    "init_3 = norm(init) - c0*norm(gs['out'][1][-1])-c1*norm(e1['out'][1][-1])\n",
    "# print(type(init_3))\n",
    "plt.plot(x,norm(init) - c0*norm(gs['out'][1][-1]),label='init_1')\n",
    "plt.plot(x,e1['out'][1][-1],label='e1')\n",
    "plt.plot(x,norm(init_3),label='init_3')\n",
    "plt.plot(x,norm(gs['out'][1][-1]))\n",
    "plt.legend()\n",
    "print(np.trapz(norm(gs['out'][1][-1])*norm(init_2),x))\n",
    "print(np.trapz(norm(gs['out'][1][-1])*norm(e1['out'][1][-1]),x))\n",
    "plt.show()"
   ]
  },
  {
   "cell_type": "code",
   "execution_count": null,
   "metadata": {
    "collapsed": false
   },
   "outputs": [],
   "source": [
    "e2 = compute(init_3,x,pot,delta,dt,Nsteps,NX)\n",
    "plot_10_percent(e2['out'][0],e2['out'][1])\n",
    "print(1/e2['energy'])"
   ]
  },
  {
   "cell_type": "code",
   "execution_count": null,
   "metadata": {
    "collapsed": false
   },
   "outputs": [],
   "source": [
    "print(gs['energy'])\n",
    "print(e1['energy'])"
   ]
  },
  {
   "cell_type": "code",
   "execution_count": null,
   "metadata": {
    "collapsed": false,
    "scrolled": true
   },
   "outputs": [],
   "source": [
    "\n",
    "def do_fit(f,NX,Nsteps,cut_low=100000,cut_high = -1):\n",
    "    out = np.zeros([NX,Nsteps])\n",
    "    mod = ExponentialModel()\n",
    "#     print(f[:,1].shape)\n",
    "#     cut = 40000\n",
    "\n",
    "    for j in range(Nsteps):\n",
    "        out[:,j] = np.abs(f[j,:])\n",
    "    decays = np.zeros(NX)\n",
    "    pars =mod.guess(out[int(NX/4),:][cut_low:cut_high], x=np.array(range(Nsteps))[cut_low:cut_high]*dt)\n",
    "\n",
    "    for i in range(NX):\n",
    "        mod_out = mod.fit(out[i,:][cut_low:cut_high], pars, x=np.array(range(Nsteps))[cut_low:cut_high]*dt)\n",
    "        decays[i] = mod_out.best_values['decay']\n",
    "    return out,decays\n",
    "\n",
    "\n",
    "decay_info = do_fit(e1['out'][1],NX,Nsteps,cut_low = 45000,cut_high = 100000)\n",
    "print(np.average(decay_info[1]))\n"
   ]
  },
  {
   "cell_type": "code",
   "execution_count": null,
   "metadata": {
    "collapsed": false
   },
   "outputs": [],
   "source": [
    "1/.33"
   ]
  },
  {
   "cell_type": "code",
   "execution_count": null,
   "metadata": {
    "collapsed": false
   },
   "outputs": [],
   "source": [
    "plt.plot(list(range(Nsteps)),e1['out'][1][:,100])"
   ]
  },
  {
   "cell_type": "code",
   "execution_count": null,
   "metadata": {
    "collapsed": false
   },
   "outputs": [],
   "source": [
    "out = e1['out'][1]\n",
    "mod = ExponentialModel()\n",
    "cut1 = 35000\n",
    "cut2 = 100000\n",
    "# print(out[:,100])\n",
    "\n",
    "pars =mod.guess(out[:,100][cut1:cut2], x=np.array(range(Nsteps))[cut1:cut2]*dt)\n",
    "\n",
    "mod_out = mod.fit(out[:,100][cut1:cut2], pars, x=np.array(range(Nsteps))[cut1:cut2]*dt)\n",
    "mod_out.plot_fit()\n",
    "print(mod_out.fit_report())\n",
    "plt.show()"
   ]
  },
  {
   "cell_type": "code",
   "execution_count": null,
   "metadata": {
    "collapsed": false
   },
   "outputs": [],
   "source": [
    "1/.4"
   ]
  },
  {
   "cell_type": "code",
   "execution_count": null,
   "metadata": {
    "collapsed": false
   },
   "outputs": [],
   "source": [
    "e1 = compute(init_2,x,pot,delta,dt,Nsteps,NX)\n",
    "plot_10_percent(e1['out'][0],e1['out'][1])\n"
   ]
  },
  {
   "cell_type": "code",
   "execution_count": null,
   "metadata": {
    "collapsed": false
   },
   "outputs": [],
   "source": [
    "e1['energy']"
   ]
  },
  {
   "cell_type": "code",
   "execution_count": null,
   "metadata": {
    "collapsed": false
   },
   "outputs": [],
   "source": [
    "init = np.random.rand(NX)*np.exp(-x**2)\n",
    "init = init*np.exp(-x**2)\n",
    "plt.plot(x,init)"
   ]
  },
  {
   "cell_type": "markdown",
   "metadata": {},
   "source": [
    "### Square Well"
   ]
  },
  {
   "cell_type": "code",
   "execution_count": null,
   "metadata": {
    "collapsed": false
   },
   "outputs": [],
   "source": [
    "pot_sqr = np.zeros(NX)\n",
    "pot_sqr[np.abs(x)>=2.5]=100\n",
    "\n",
    "init_sqr = np.ones_like(x)\n",
    "\n",
    "max_pow = 4\n",
    "for i in range(max_pow):\n",
    "    init_sqr += np.random.rand(1)*x**(i+1)\n",
    "\n",
    "plt.plot(x,init_sqr)\n",
    "gs_sqr = compute(init,x,pot_sqr,delta,dt,Nsteps,NX)\n",
    "init_sqr_2 = new_init(gs_sqr['out'][1][0],gs_sqr['out'][1][-1])[1]\n",
    "plot_10_percent(gs_sqr['out'][0],gs_sqr['out'][1])\n",
    "e1_sqr = compute(init_sqr_2,x,pot_sqr,delta,dt,Nsteps,NX)"
   ]
  },
  {
   "cell_type": "code",
   "execution_count": null,
   "metadata": {
    "collapsed": false,
    "scrolled": true
   },
   "outputs": [],
   "source": [
    "print(gs_sqr['energy'])\n",
    "print(e1_sqr['energy'])"
   ]
  },
  {
   "cell_type": "code",
   "execution_count": null,
   "metadata": {
    "collapsed": false
   },
   "outputs": [],
   "source": [
    "\n",
    "plot_10_percent(out[0],out[1])\n",
    "a = do_fit(out[1],NX,Nsteps)\n",
    "\n",
    "plt.scatter(np.array(range(NX)), 1./a[1])\n",
    "plt.xlabel('simulation point')\n",
    "plt.ylabel('$\\omega$')\n",
    "plt.show()"
   ]
  },
  {
   "cell_type": "markdown",
   "metadata": {},
   "source": [
    "### Trying to extract c0"
   ]
  },
  {
   "cell_type": "code",
   "execution_count": null,
   "metadata": {
    "collapsed": false
   },
   "outputs": [],
   "source": [
    "\n",
    "norm = np.sqrt(np.trapz(f[0]**2,x))\n",
    "psi_0  =out[1][-1]\n",
    "norm_0 = np.sqrt(np.trapz(psi_0**2,x))\n",
    "plt.plot(x,psi_0/norm_0,label='gs')\n",
    "plt.plot(x,f[0]/norm,label='Init')\n",
    "\n",
    "init_norm = f[0]/norm\n",
    "gs_norm = psi_0/norm_0\n",
    "\n",
    "c0 = np.trapz(init_norm*gs_norm,x)\n",
    "print(c0)\n",
    "\n",
    "new_start = init_norm - c0*gs_norm\n",
    "plt.plot(x,new_start,label='new')\n",
    "plt.legend()\n",
    "\n",
    "plt.show()\n"
   ]
  },
  {
   "cell_type": "code",
   "execution_count": null,
   "metadata": {
    "collapsed": false
   },
   "outputs": [],
   "source": [
    "print(np.average(1/a[1]))\n",
    "print(np.average(1/a2[1]))\n",
    "print(np.average(1/a2[1])/np.average(1/a[1]))"
   ]
  },
  {
   "cell_type": "code",
   "execution_count": null,
   "metadata": {
    "collapsed": false
   },
   "outputs": [],
   "source": [
    "np.sqrt(2)/2"
   ]
  },
  {
   "cell_type": "code",
   "execution_count": null,
   "metadata": {
    "collapsed": false
   },
   "outputs": [],
   "source": [
    ".7/np.sqrt(2)"
   ]
  },
  {
   "cell_type": "code",
   "execution_count": null,
   "metadata": {
    "collapsed": false
   },
   "outputs": [],
   "source": [
    "f = np.zeros([Nsteps, NX])\n",
    "pot = .5*x**2\n",
    "\n",
    "# f[0] = (1-out[1][-1])\n",
    "f[0]=x*np.exp(-1/4*x**2)\n",
    "# f[0] = 1\n",
    "# f[0]=np.random.rand(NX)-.5\n",
    "out2 = ADR_with_history(x,f,pot,dt,delta, 0,NX,Nsteps)\n"
   ]
  },
  {
   "cell_type": "code",
   "execution_count": null,
   "metadata": {
    "collapsed": false
   },
   "outputs": [],
   "source": [
    "\n",
    "plot_10_percent(out2[0],out2[1])\n",
    "a2 = do_fit(out2[1],NX,Nsteps)\n",
    "\n",
    "plt.scatter(np.array(range(NX)), 1./a2[1])\n",
    "plt.xlabel('simulation point')\n",
    "plt.ylabel('$\\omega$')\n",
    "plt.show()"
   ]
  },
  {
   "cell_type": "code",
   "execution_count": null,
   "metadata": {
    "collapsed": false
   },
   "outputs": [],
   "source": [
    "\n",
    "decar = np.zeros(NX)\n",
    "# plt.plot(list(range(Nsteps)), out[1][:,250])\n",
    "mod = ExponentialModel()\n",
    "\n",
    "\n",
    "idx = 250\n",
    "cut = 40000\n",
    "pars =mod.guess(out[1][:,idx][cut:], x=np.array(range(Nsteps))[cut:]*dt)\n",
    "result = mod.fit(out[1][:,idx][cut:], pars, x=np.array(range(Nsteps))[cut:]*dt)\n",
    "result.plot_fit()\n",
    "print(result.fit_report())"
   ]
  },
  {
   "cell_type": "markdown",
   "metadata": {},
   "source": [
    "# Square Well\n"
   ]
  },
  {
   "cell_type": "code",
   "execution_count": null,
   "metadata": {
    "collapsed": false
   },
   "outputs": [],
   "source": [
    "pot_sqr = np.zeros(NX)\n",
    "pot_sqr[np.abs(x)>=2.5]=100\n",
    "plt.plot(x,pot_sqr)\n",
    "plt.plot(x,np.sin(x*np.pi/2.5)+1)\n",
    "plt.plot(x,np.cos(x*np.pi/2.5)+2+np.sin(x*np.pi/2.5))\n",
    "plt.ylim([-5,5])\n",
    "\n"
   ]
  },
  {
   "cell_type": "code",
   "execution_count": null,
   "metadata": {
    "collapsed": false
   },
   "outputs": [],
   "source": [
    "f_sqr = np.zeros([Nsteps, NX])\n",
    "f_sqr[0] = np.cos(x*np.pi/2.5)+np.sin(x*np.pi/2.5)+2\n",
    "# f[0]=x\n",
    "# f[0] = 1\n",
    "# f[0]=np.random.rand(NX)-.5\n",
    "out_sqr = ADR_with_history(x,f_sqr,pot_sqr,dt,delta, 0,NX,Nsteps)"
   ]
  },
  {
   "cell_type": "code",
   "execution_count": null,
   "metadata": {
    "collapsed": false
   },
   "outputs": [],
   "source": [
    "plot_10_percent(out_sqr[0],out_sqr[1],show=False)\n",
    "plt.plot(x,pot_sqr)\n",
    "plt.ylim([-.01,2])\n",
    "plt.show()"
   ]
  },
  {
   "cell_type": "code",
   "execution_count": null,
   "metadata": {
    "collapsed": true
   },
   "outputs": [],
   "source": []
  }
 ],
 "metadata": {
  "anaconda-cloud": {},
  "kernelspec": {
   "display_name": "Python [conda root]",
   "language": "python",
   "name": "conda-root-py"
  },
  "language_info": {
   "codemirror_mode": {
    "name": "ipython",
    "version": 3
   },
   "file_extension": ".py",
   "mimetype": "text/x-python",
   "name": "python",
   "nbconvert_exporter": "python",
   "pygments_lexer": "ipython3",
   "version": "3.5.2"
  }
 },
 "nbformat": 4,
 "nbformat_minor": 1
}
