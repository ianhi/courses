{
 "cells": [
  {
   "cell_type": "code",
   "execution_count": 1,
   "metadata": {
    "collapsed": true
   },
   "outputs": [],
   "source": [
    "%matplotlib inline\n",
    "import numpy as np\n",
    "import matplotlib.pyplot as plt\n",
    "import matplotlib as mpl\n",
    "mpl.style.use(['fivethirtyeight', 'figsize'])\n",
    "_SAVEDIR_ = 'Tex/figures/'\n",
    "\n",
    "\n",
    "def prog_bar(cur_val,max_val,msg = \"\"):\n",
    "    import sys\n",
    "    sys.stdout.write('\\r')\n",
    "    eq = int(np.ceil(np.true_divide(cur_val*100,max_val*5)))\n",
    "    sys.stdout.write(\"[{:20s}] {}/{} {:}  \".format('='*eq, cur_val+1,max_val,msg))\n",
    "    sys.stdout.flush()\n"
   ]
  },
  {
   "cell_type": "code",
   "execution_count": 32,
   "metadata": {
    "collapsed": true
   },
   "outputs": [],
   "source": [
    "# Define parameters\n",
    "G = -5\n",
    "# omega = 1.d0/(3.*visc*(dt*dt)/(dx*dx) + 0.5*dt)\n",
    "omega = 1"
   ]
  },
  {
   "cell_type": "code",
   "execution_count": null,
   "metadata": {
    "collapsed": true
   },
   "outputs": [],
   "source": [
    "def init(rho_in):\n",
    "    rho = np.ones([lx,ly])*rho_in\n",
    "    \n",
    "    rho *= 1+.01*(np.random.rand(lx,ly)-.5)*2\n",
    "    u = np.zeros([lx,ly])\n",
    "    v = np.zeros([lx,ly])\n",
    "    for kk in range(0,9):  \n",
    "        f[0,kk,:,:] = w[kk]*rho\n",
    "        \n",
    "    # Init rho with perturbation\n",
    "def calc_macro(f,rho,u,v):\n",
    "    # f should be at a given time step\n",
    "    u[:,:] = 0\n",
    "    v[:,:] = 0\n",
    "    \n",
    "    rho = np.sum(f,axis=0)\n",
    "    for k in range(9):\n",
    "        u += f[k]*ex[k]\n",
    "#         print(ey[k])\n",
    "        v += f[k]*ey[k]\n",
    "    u=u/rho\n",
    "    v=v/rho\n",
    "    return rho, u ,v\n",
    "def force(rho, u, v):\n",
    "    # omega, and rho_psi are global variables\n",
    "    psi = rho_psi*(1-np.exp(-rho/rho_psi))\n",
    "    # a negative roll velocity implied i+1\n",
    "\n",
    "    f_x = psi*(np.roll(psi,(0,-1),(0,1))-np.roll(psi,(0,1),(0,1)))\n",
    "    f_y = psi*(np.roll(psi,(0,-1),(0,1))-np.roll(psi,(0,1),(0,1)))\n",
    "\n",
    "    f2_x = psi*(np.roll(psi,(-1,1),(0,1))+np.roll(psi,(-1,-1),(0,1))\n",
    "                -np.roll(psi,(1,1),(0,1))-np.roll(psi,(1,-1),(0,1)))\n",
    "\n",
    "\n",
    "    f2_y = psi*(np.roll(psi,(-1,-1),(0,1))+np.roll(psi,(1,-1),(0,1))\n",
    "                -np.roll(psi,(1,1),(0,1))-np.roll(psi,(-1,1),(0,1)))\n",
    "\n",
    "    force_x = -G*(f_x*1/9+f2_x*1/36)\n",
    "    force_y = -G*(f_y*1/9+f2_y*1/36)\n",
    "\n",
    "\n",
    "    # shift equlibrium\n",
    "    u += force_x/(omega*rho)\n",
    "    v += force_y/(omega*rho)\n",
    "    return u, v\n",
    "\n",
    "def equilibrium(u, v, rho, f, ts):\n",
    "    for k in range(0,9):\n",
    "        cu = (1./cs**2)*(ex[k]*u+ey[k]*v)\n",
    "        feq = rho*w[k]*(1.+cu+cu**2-(u**2+v**2)/(2*cs**2))\n",
    "        f[ts, k, :,:] = f[ts-1,k,:,:] +(1./tau)*(feq-f[ts-1,k,:,:])\n",
    "\n",
    "def run(f,boundaries,internal_bound):\n",
    "# initialization\n",
    "    rho = np.ones([lx,ly])\n",
    "    u = np.zeros([lx,ly])\n",
    "    v = np.zeros([lx,ly])\n",
    "    for kk in range(0,9):  \n",
    "        f[0,kk,:,:] = w[kk]*rho\n",
    "\n",
    "    # main loop\n",
    "    for ts in range(1,Nsteps):\n",
    "        # macroscopic\n",
    "        prog_bar(ts,Nsteps)\n",
    "        rho, u, v = calc_macro(f[ts-1],rho,u,v)\n",
    "\n",
    "        # collision\n",
    "        force()\n",
    "        equilibrium(u, v, rho, f, ts)\n",
    "#         for k in range(0,9):\n",
    "#             cu = (1./cs**2)*(ex[k]*u+ey[k]*v)\n",
    "#             feq = rho*w[k]*(1.+cu+cu**2-(u**2+v**2)/(2*cs**2))\n",
    "#             f[ts, k, :,:] = f[ts-1,k,:,:] +(1./tau)*(feq-f[ts-1,k,:,:])\n",
    "\n",
    "\n",
    "        # prepare the next time step\n",
    "        fout = f[ts]\n",
    "\n",
    "        # boundary\n",
    "        # north & south\n",
    "        for k in range(0,9):\n",
    "            fout[k][boundaries == 1] = f[ts,opp[k]][boundaries == 1]\n",
    "#             fout[k][internal_bound==1]=0\n",
    "        # streaming\n",
    "        for kk in range(0,9): \n",
    "            f[ts,kk,:,:] = np.roll(fout[kk,:,:],(ex[kk],ey[kk]),(0,1))"
   ]
  },
  {
   "cell_type": "code",
   "execution_count": 13,
   "metadata": {},
   "outputs": [
    {
     "name": "stdout",
     "output_type": "stream",
     "text": [
      "[1 2 3 4]\n",
      "[-2  4  6 -8]\n",
      "-2\n",
      "4\n",
      "6\n",
      "-8\n"
     ]
    }
   ],
   "source": [
    "psi = np.arange(1,5)\n",
    "print(psi)\n",
    "print(psi*(np.roll(psi,-1,0)-np.roll(psi,1,0)))\n",
    "for i in range(4):\n",
    "    print(psi[i]*(psi[(i+1)%4]-psi[i-1]))"
   ]
  },
  {
   "cell_type": "code",
   "execution_count": null,
   "metadata": {
    "collapsed": true
   },
   "outputs": [],
   "source": [
    "psi = np.arange(1,5)\n",
    "print(psi)\n",
    "print(psi*(np.roll(psi,-1,0)-np.roll(psi,1,0)))\n",
    "for i in range(4):\n",
    "    print(psi[i]*(psi[(i+1)%4]-psi[i-1]))"
   ]
  },
  {
   "cell_type": "code",
   "execution_count": 29,
   "metadata": {
    "scrolled": false
   },
   "outputs": [
    {
     "name": "stdout",
     "output_type": "stream",
     "text": [
      "[[ 0.  0.  0.  0.  0.]\n",
      " [ 0.  0.  0.  0.  0.]\n",
      " [ 0.  0.  0.  0. -5.]\n",
      " [ 0.  0.  0.  0.  0.]\n",
      " [ 0.  0.  0.  0.  5.]]\n",
      "[ 0.  0.  0.  0.  0.]\n",
      "[ 0.  0.  0.  0.  0.]\n",
      "[ 0.  0.  0.  0. -5.]\n",
      "[ 0.  0.  0.  0.  0.]\n",
      "[ 0.  0.  0.  0.  5.]\n"
     ]
    }
   ],
   "source": [
    "psi =np.zeros([5,5])\n",
    "psi[:,:] = np.arange(1,6)\n",
    "psi[3,4] = 4\n",
    "print(psi*(np.roll(psi,(-1,0),(0,1))-np.roll(psi,(1,0),(0,1))))\n",
    "for i in range(5):\n",
    "    print(psi[i,:]*(psi[(i+1)%4,:]-psi[i-1,:]))"
   ]
  },
  {
   "cell_type": "code",
   "execution_count": 33,
   "metadata": {},
   "outputs": [
    {
     "ename": "NameError",
     "evalue": "name 'u' is not defined",
     "output_type": "error",
     "traceback": [
      "\u001b[0;31m---------------------------------------------------------------------------\u001b[0m",
      "\u001b[0;31mNameError\u001b[0m                                 Traceback (most recent call last)",
      "\u001b[0;32m<ipython-input-33-ee237a986d28>\u001b[0m in \u001b[0;36m<module>\u001b[0;34m()\u001b[0m\n\u001b[1;32m     16\u001b[0m \u001b[0;34m\u001b[0m\u001b[0m\n\u001b[1;32m     17\u001b[0m \u001b[0;31m# shift equlibrium\u001b[0m\u001b[0;34m\u001b[0m\u001b[0;34m\u001b[0m\u001b[0m\n\u001b[0;32m---> 18\u001b[0;31m \u001b[0mu\u001b[0m \u001b[0;34m+=\u001b[0m \u001b[0mforce_x\u001b[0m\u001b[0;34m/\u001b[0m\u001b[0;34m(\u001b[0m\u001b[0momega\u001b[0m\u001b[0;34m*\u001b[0m\u001b[0mrho\u001b[0m\u001b[0;34m)\u001b[0m\u001b[0;34m\u001b[0m\u001b[0m\n\u001b[0m\u001b[1;32m     19\u001b[0m \u001b[0mv\u001b[0m \u001b[0;34m+=\u001b[0m \u001b[0mforce_y\u001b[0m\u001b[0;34m/\u001b[0m\u001b[0;34m(\u001b[0m\u001b[0momega\u001b[0m\u001b[0;34m*\u001b[0m\u001b[0mrho\u001b[0m\u001b[0;34m)\u001b[0m\u001b[0;34m\u001b[0m\u001b[0m\n",
      "\u001b[0;31mNameError\u001b[0m: name 'u' is not defined"
     ]
    }
   ],
   "source": [
    "# a negative roll velocity implied i+1\n",
    "\n",
    "f_x = psi*(np.roll(psi,(0,-1),(0,1))-np.roll(psi,(0,1),(0,1)))\n",
    "f_y = psi*(np.roll(psi,(0,-1),(0,1))-np.roll(psi,(0,1),(0,1)))\n",
    "\n",
    "f2_x = psi*(np.roll(psi,(-1,1),(0,1))+np.roll(psi,(-1,-1),(0,1))\n",
    "            -np.roll(psi,(1,1),(0,1))-np.roll(psi,(1,-1),(0,1)))\n",
    "\n",
    "\n",
    "f2_y = psi*(np.roll(psi,(-1,-1),(0,1))+np.roll(psi,(1,-1),(0,1))\n",
    "            -np.roll(psi,(1,1),(0,1))-np.roll(psi,(-1,1),(0,1)))\n",
    "\n",
    "force_x = -G*(f_x*1/9+f2_x*1/36)\n",
    "force_y = -G*(f_y*1/9+f2_y*1/36)\n",
    "\n",
    "\n",
    "# shift equlibrium\n",
    "u += force_x/(omega*rho)\n",
    "v += force_y/(omega*rho)"
   ]
  },
  {
   "cell_type": "code",
   "execution_count": null,
   "metadata": {
    "collapsed": true
   },
   "outputs": [],
   "source": []
  }
 ],
 "metadata": {
  "kernelspec": {
   "display_name": "Python 3",
   "language": "python",
   "name": "python3"
  },
  "language_info": {
   "codemirror_mode": {
    "name": "ipython",
    "version": 3
   },
   "file_extension": ".py",
   "mimetype": "text/x-python",
   "name": "python",
   "nbconvert_exporter": "python",
   "pygments_lexer": "ipython3",
   "version": "3.6.1"
  }
 },
 "nbformat": 4,
 "nbformat_minor": 2
}
