{
 "cells": [
  {
   "cell_type": "code",
   "execution_count": 1,
   "metadata": {
    "collapsed": false
   },
   "outputs": [
    {
     "data": {
      "image/png": "[encoded data removed]",
      "text/plain": [
       "<matplotlib.figure.Figure at 0x7f493c122780>"
      ]
     },
     "metadata": {},
     "output_type": "display_data"
    },
    {
     "name": "stdout",
     "output_type": "stream",
     "text": [
      "495.100569594\n"
     ]
    }
   ],
   "source": [
    "%matplotlib inline\n",
    "import numpy as np\n",
    "import matplotlib.pyplot as plt\n",
    "\n",
    "NX = 1000\n",
    "NM=4\n",
    "Nsteps = 30001\n",
    "x = np.zeros(NX)\n",
    "f = np.zeros([Nsteps, NX+2])\n",
    "       \n",
    "nout   = 300 \n",
    "sizex  = 1.0 \n",
    "dif    = 1.0 \n",
    "vel    = 0.1 \n",
    "\n",
    "dx    = sizex/float(NX-1)\n",
    "cfld  = .5\n",
    "cfla  = 0.1 \n",
    "dtd    = cfld*dx*dx/dif \n",
    "dta    = cfla*dx/vel \n",
    "# dt    = min(dta,dtd)\n",
    "dt = dta\n",
    "sigma = 200*dx            #!  play with width\n",
    "x = np.linspace(1,NX,NX)*dx\n",
    "# for j in range(1,NX):\n",
    "#     x[j] = dx*float(j-1)\n",
    "#     xj   = (x[j]-sizex/2)/sigma\n",
    "#     f[0,j] = np.exp(-0.5*xj*xj)\n",
    "    \n",
    "f[0][1:-1] = np.exp(-.5*np.power((x-sizex/2)/sigma,2))\n",
    "f[0]=f[0]/np.max(f[0])\n",
    "plt.plot(x,f[0][1:-1])\n",
    "plt.ylim([0,1])\n",
    "plt.show()\n",
    "print(np.sum(f[0]))\n",
    "#"
   ]
  },
  {
   "cell_type": "code",
   "execution_count": 2,
   "metadata": {
    "collapsed": true
   },
   "outputs": [],
   "source": [
    "def AD_update(t,f):\n",
    "    a = cfld+0.5*cfla\n",
    "    b = cfld-0.5*cfla\n",
    "    c = 1.0-a-b\n",
    "    f[t,j] = a*f[t-1,j-1]+c*f[t-1,j]+b*f[t-1,j+1]\n",
    "def D_update(t,f):\n",
    "    a = cfld\n",
    "    b = cfld\n",
    "    c = 1 - 2*cfld\n",
    "    f[t,j] = a*f[t-1,j-1]+c*f[t-1,j]+b*f[t-1,j+1]\n",
    "\n",
    "    \n",
    "\n"
   ]
  },
  {
   "cell_type": "code",
   "execution_count": 3,
   "metadata": {
    "collapsed": false
   },
   "outputs": [
    {
     "name": "stdout",
     "output_type": "stream",
     "text": [
      "100\n",
      "200\n",
      "300\n",
      "400\n",
      "500\n",
      "600\n",
      "700\n",
      "800\n",
      "900\n",
      "1000\n",
      "1100\n",
      "1200\n",
      "1300\n",
      "1400\n",
      "1500\n",
      "1600\n",
      "1700\n",
      "1800\n",
      "1900\n",
      "2000\n",
      "2100\n",
      "2200\n",
      "2300\n",
      "2400\n",
      "2500\n",
      "2600\n",
      "2700\n",
      "2800\n",
      "2900\n",
      "3000\n",
      "3100\n",
      "3200\n",
      "3300\n",
      "3400\n",
      "3500\n",
      "3600\n",
      "3700\n",
      "3800\n",
      "3900\n",
      "4000\n",
      "4100\n",
      "4200\n",
      "4300\n",
      "4400\n",
      "4500\n",
      "4600\n",
      "4700\n",
      "4800\n",
      "4900\n",
      "5000\n",
      "5100\n",
      "5200\n",
      "5300\n",
      "5400\n",
      "5500\n",
      "5600\n",
      "5700\n",
      "5800\n",
      "5900\n",
      "6000\n",
      "6100\n",
      "6200\n",
      "6300\n",
      "6400\n",
      "6500\n",
      "6600\n",
      "6700\n",
      "6800\n",
      "6900\n",
      "7000\n",
      "7100\n",
      "7200\n",
      "7300\n",
      "7400\n",
      "7500\n",
      "7600\n",
      "7700\n",
      "7800\n",
      "7900\n",
      "8000\n",
      "8100\n",
      "8200\n",
      "8300\n",
      "8400\n",
      "8500\n",
      "8600\n",
      "8700\n",
      "8800\n",
      "8900\n",
      "9000\n",
      "9100\n",
      "9200\n",
      "9300\n",
      "9400\n",
      "9500\n",
      "9600\n",
      "9700\n",
      "9800\n",
      "9900\n",
      "10000\n",
      "10100\n",
      "10200\n",
      "10300\n",
      "10400\n",
      "10500\n",
      "10600\n",
      "10700\n",
      "10800\n",
      "10900\n",
      "11000\n",
      "11100\n",
      "11200\n",
      "11300\n",
      "11400\n",
      "11500\n",
      "11600\n",
      "11700\n",
      "11800\n",
      "11900\n",
      "12000\n",
      "12100\n",
      "12200\n",
      "12300\n",
      "12400\n",
      "12500\n",
      "12600\n",
      "12700\n",
      "12800\n",
      "12900\n",
      "13000\n",
      "13100\n",
      "13200\n",
      "13300\n",
      "13400\n",
      "13500\n",
      "13600\n",
      "13700\n",
      "13800\n",
      "13900\n",
      "14000\n",
      "14100\n",
      "14200\n",
      "14300\n",
      "14400\n",
      "14500\n",
      "14600\n",
      "14700\n",
      "14800\n",
      "14900\n",
      "15000\n",
      "15100\n",
      "15200\n",
      "15300\n",
      "15400\n",
      "15500\n",
      "15600\n",
      "15700\n",
      "15800\n",
      "15900\n",
      "16000\n",
      "16100\n",
      "16200\n",
      "16300\n",
      "16400\n",
      "16500\n",
      "16600\n",
      "16700\n",
      "16800\n",
      "16900\n",
      "17000\n",
      "17100\n",
      "17200\n",
      "17300\n",
      "17400\n",
      "17500\n",
      "17600\n",
      "17700\n",
      "17800\n",
      "17900\n",
      "18000\n",
      "18100\n",
      "18200\n",
      "18300\n",
      "18400\n",
      "18500\n",
      "18600\n",
      "18700\n",
      "18800\n",
      "18900\n",
      "19000\n",
      "19100\n",
      "19200\n",
      "19300\n",
      "19400\n",
      "19500\n",
      "19600\n",
      "19700\n",
      "19800\n",
      "19900\n",
      "20000\n",
      "20100\n",
      "20200\n",
      "20300\n",
      "20400\n",
      "20500\n",
      "20600\n",
      "20700\n",
      "20800\n",
      "20900\n",
      "21000\n",
      "21100\n",
      "21200\n",
      "21300\n",
      "21400\n",
      "21500\n",
      "21600\n",
      "21700\n",
      "21800\n",
      "21900\n",
      "22000\n",
      "22100\n",
      "22200\n",
      "22300\n",
      "22400\n",
      "22500\n",
      "22600\n",
      "22700\n",
      "22800\n",
      "22900\n",
      "23000\n",
      "23100\n",
      "23200\n",
      "23300\n",
      "23400\n",
      "23500\n",
      "23600\n",
      "23700\n",
      "23800\n",
      "23900\n",
      "24000\n",
      "24100\n",
      "24200\n",
      "24300\n",
      "24400\n",
      "24500\n",
      "24600\n",
      "24700\n",
      "24800\n",
      "24900\n",
      "25000\n",
      "25100\n",
      "25200\n",
      "25300\n",
      "25400\n",
      "25500\n",
      "25600\n",
      "25700\n",
      "25800\n",
      "25900\n",
      "26000\n",
      "26100\n",
      "26200\n",
      "26300\n",
      "26400\n",
      "26500\n",
      "26600\n",
      "26700\n",
      "26800\n",
      "26900\n",
      "27000\n",
      "27100\n",
      "27200\n",
      "27300\n",
      "27400\n",
      "27500\n",
      "27600\n",
      "27700\n",
      "27800\n",
      "27900\n",
      "28000\n",
      "28100\n",
      "28200\n",
      "28300\n",
      "28400\n",
      "28500\n",
      "28600\n",
      "28700\n",
      "28800\n",
      "28900\n",
      "29000\n",
      "29100\n",
      "29200\n",
      "29300\n",
      "29400\n",
      "29500\n",
      "29600\n",
      "29700\n",
      "29800\n",
      "29900\n",
      "30000\n",
      "CPU times: user 2min 20s, sys: 1.94 s, total: 2min 22s\n",
      "Wall time: 2min 22s\n"
     ]
    }
   ],
   "source": [
    "%%time\n",
    "for t in range(1,Nsteps):\n",
    "    #PBC\n",
    "    f[t-1,0] = f[t-1,NX]\n",
    "    f[t-1,-1] = f[t-1,1]\n",
    "    # Updating \n",
    "    if t % 100 == 0:\n",
    "        print(t)\n",
    "    for j in range(1,NX+1):\n",
    "#         AD_update(t,f)\n",
    "        D_update(t,f)"
   ]
  },
  {
   "cell_type": "code",
   "execution_count": 4,
   "metadata": {
    "collapsed": false
   },
   "outputs": [
    {
     "name": "stdout",
     "output_type": "stream",
     "text": [
      "100\n",
      "200\n",
      "300\n",
      "400\n",
      "500\n",
      "600\n",
      "700\n",
      "800\n",
      "900\n",
      "CPU times: user 3.6 s, sys: 64 ms, total: 3.66 s\n",
      "Wall time: 3.66 s\n"
     ]
    },
    {
     "data": {
      "image/png": "[encoded data removed]",
      "text/plain": [
       "<matplotlib.figure.Figure at 0x7f491b9d9748>"
      ]
     },
     "metadata": {},
     "output_type": "display_data"
    }
   ],
   "source": [
    "%%time\n",
    "cfld = .2\n",
    "cfla = .5\n",
    "Nsteps = 1000\n",
    "f = np.zeros([Nsteps, NX+2])\n",
    "sigma = 20*dx            #!  play with width\n",
    "x = np.linspace(0,1,NX)\n",
    "# for j in range(1,NX):\n",
    "#     x[j] = dx*float(j-1)\n",
    "#     xj   = (x[j]-sizex/2)/sigma\n",
    "#     f[0,j] = np.exp(-0.5*xj*xj)\n",
    "    \n",
    "f[0][1:-1] = np.exp(-.5*np.power((x-.7)/sigma,2))\n",
    "f[0]=f[0]/np.max(f[0])\n",
    "plt.plot(x,f[0][1:-1])\n",
    "def AD_update(t,f):\n",
    "    a = .2+0.5*.5\n",
    "    b = .2-0.5*.5\n",
    "    c = 1.0-2*.2\n",
    "    f[t,j] = a*f[t-1,j-1]+c*f[t-1,j]+b*f[t-1,j+1]\n",
    "    \n",
    "for t in range(1,Nsteps):\n",
    "    #PBC\n",
    "    f[t-1,0] = f[t-1,NX]\n",
    "    f[t-1,-1] = f[t-1,1]\n",
    "    # Updating \n",
    "    if t % 100 == 0:\n",
    "        print(t)\n",
    "    for j in range(1,NX+1):\n",
    "        AD_update(t,f)\n",
    "#         D_update(t,f)"
   ]
  },
  {
   "cell_type": "code",
   "execution_count": 5,
   "metadata": {
    "collapsed": false
   },
   "outputs": [
    {
     "data": {
      "image/png": "[encoded data removed]",
      "text/plain": [
       "<matplotlib.figure.Figure at 0x7f490864c518>"
      ]
     },
     "metadata": {},
     "output_type": "display_data"
    }
   ],
   "source": [
    "plt.plot(x,f[800][1:-1])\n",
    "plt.ylim([0,1])\n",
    "plt.show()"
   ]
  },
  {
   "cell_type": "code",
   "execution_count": 6,
   "metadata": {
    "collapsed": false
   },
   "outputs": [
    {
     "name": "stdout",
     "output_type": "stream",
     "text": [
      "50.1382057235\n",
      "50.1383127554\n"
     ]
    }
   ],
   "source": [
    "print(np.sum(f[0]))\n",
    "print(np.sum(f[800]))"
   ]
  },
  {
   "cell_type": "code",
   "execution_count": 7,
   "metadata": {
    "collapsed": false
   },
   "outputs": [
    {
     "data": {
      "image/png": "[encoded data removed]",
      "text/plain": [
       "<matplotlib.figure.Figure at 0x7f4918e67cf8>"
      ]
     },
     "metadata": {},
     "output_type": "display_data"
    }
   ],
   "source": [
    "plt.figure(figsize=(9,9))\n",
    "lw = 2\n",
    "plt.plot(x,f[0][1:-1],'k',alpha = .9, lw = lw+.5,label = \"T =  0 steps\")\n",
    "plt.plot(x,f[650][1:-1],'k--',alpha = .9, lw = lw+.5,label = \"T = 650 steps\")\n",
    "plt.legend(fontsize = 20)\n",
    "plt.xlabel('X')\n",
    "plt.show()"
   ]
  },
  {
   "cell_type": "code",
   "execution_count": 8,
   "metadata": {
    "collapsed": false
   },
   "outputs": [
    {
     "data": {
      "image/png": "[encoded data removed]",
      "text/plain": [
       "<matplotlib.figure.Figure at 0x7f4918f49438>"
      ]
     },
     "metadata": {},
     "output_type": "display_data"
    }
   ],
   "source": [
    "def calc_H(f,dx):\n",
    "    tot = 0\n",
    "    for i in f:\n",
    "        tot += i*i*dx\n",
    "    return tot\n",
    "def calc_M0(f):\n",
    "    return np.sum(f)\n",
    "def calc_M1(f,x):\n",
    "    return np.dot(f,x)\n",
    "dx = x[1]-x[0]\n",
    "list_H = []\n",
    "list_M0 = []\n",
    "list_M1 = []\n",
    "for i in range(len(f)):\n",
    "    list_H.append(calc_H(f[i][1:-1],dx))\n",
    "    list_M0.append(calc_M0(f[i][1:-1]))\n",
    "    list_M1.append(calc_M1(f[i][1:-1],x))\n",
    "def norm(x):\n",
    "    np.array(x)\n",
    "    x/=np.max(x)\n",
    "    return x\n",
    "\n",
    "plt.figure(figsize =(9,9))\n",
    "plt.plot(list(range(len(f))),norm(list_H),'k',lw=5 , label = r\"$H_2$\")\n",
    "plt.plot(list(range(len(f))),norm(list_M0),':',lw=5 , label = r\"$M_0$\")\n",
    "plt.plot(list(range(len(f))),norm(list_M1),'--',lw=5 , label = r\"$M_1$\")\n",
    "fs = 20\n",
    "plt.ylabel(\"Normalized Value\",fontsize =fs)\n",
    "plt.legend(fontsize = fs)\n",
    "\n",
    "plt.xlabel(\"Time step\",fontsize = fs)\n",
    "plt.show()\n"
   ]
  },
  {
   "cell_type": "code",
   "execution_count": 9,
   "metadata": {
    "collapsed": false
   },
   "outputs": [
    {
     "name": "stdout",
     "output_type": "stream",
     "text": [
      "50.1382057235\n"
     ]
    },
    {
     "data": {
      "text/plain": [
       "(29000, 30005)"
      ]
     },
     "execution_count": 9,
     "metadata": {},
     "output_type": "execute_result"
    },
    {
     "data": {
      "image/png": "[encoded data removed]",
      "text/plain": [
       "<matplotlib.figure.Figure at 0x7f4918a3af60>"
      ]
     },
     "metadata": {},
     "output_type": "display_data"
    }
   ],
   "source": [
    "print(np.sum(f[30]))\n",
    "plt.plot(range(Nsteps),np.sum(f[:,1:-1],axis=1)) # indexing to remove boundary cond pts\n",
    "plt.ylim([50,51])\n",
    "plt.xlim([29000,30005])"
   ]
  },
  {
   "cell_type": "markdown",
   "metadata": {},
   "source": [
    "# Now with Dirichlet Boundary Conditions"
   ]
  },
  {
   "cell_type": "code",
   "execution_count": 10,
   "metadata": {
    "collapsed": true
   },
   "outputs": [],
   "source": [
    "\n",
    "PHI = 50\n",
    "Nsteps = 30000\n",
    "cfld=.4\n",
    "def D_update(t,f,j):\n",
    "    a = cfld\n",
    "    b = cfld\n",
    "    c = 1 - 2*cfld\n",
    "    f[t,j] = a*f[t-1,j-1]+c*f[t-1,j]+b*f[t-1,j+1]\n",
    "    \n",
    "\n",
    "f = np.zeros([Nsteps, NX])\n",
    "x = np.linspace(1,NX,NX)*dx\n",
    "\n"
   ]
  },
  {
   "cell_type": "code",
   "execution_count": 11,
   "metadata": {
    "collapsed": false
   },
   "outputs": [
    {
     "ename": "KeyboardInterrupt",
     "evalue": "",
     "output_type": "error",
     "traceback": [
      "\u001b[0;31m---------------------------------------------------------------------------\u001b[0m",
      "\u001b[0;31mKeyboardInterrupt\u001b[0m                         Traceback (most recent call last)",
      "\u001b[0;32m<ipython-input-11-8aa897caf3bb>\u001b[0m in \u001b[0;36m<module>\u001b[0;34m()\u001b[0m\n\u001b[0;32m----> 1\u001b[0;31m \u001b[0mget_ipython\u001b[0m\u001b[0;34m(\u001b[0m\u001b[0;34m)\u001b[0m\u001b[0;34m.\u001b[0m\u001b[0mrun_cell_magic\u001b[0m\u001b[0;34m(\u001b[0m\u001b[0;34m'timeit'\u001b[0m\u001b[0;34m,\u001b[0m \u001b[0;34m''\u001b[0m\u001b[0;34m,\u001b[0m \u001b[0;34m'for t in range(1,Nsteps):\\n    #Dirichlet Boundary Conditions\\n    f[t-1,0] = PHI\\n    f[t-1,-1] = PHI\\n    # Updating \\n#     if t % 500 == 0:\\n#         print(t)\\n    for j in range(1,NX-1):\\n        D_update(t,f,j)'\u001b[0m\u001b[0;34m)\u001b[0m\u001b[0;34m\u001b[0m\u001b[0m\n\u001b[0m",
      "\u001b[0;32m/home/ian/anaconda3/lib/python3.5/site-packages/IPython/core/interactiveshell.py\u001b[0m in \u001b[0;36mrun_cell_magic\u001b[0;34m(self, magic_name, line, cell)\u001b[0m\n\u001b[1;32m   2113\u001b[0m             \u001b[0mmagic_arg_s\u001b[0m \u001b[0;34m=\u001b[0m \u001b[0mself\u001b[0m\u001b[0;34m.\u001b[0m\u001b[0mvar_expand\u001b[0m\u001b[0;34m(\u001b[0m\u001b[0mline\u001b[0m\u001b[0;34m,\u001b[0m \u001b[0mstack_depth\u001b[0m\u001b[0;34m)\u001b[0m\u001b[0;34m\u001b[0m\u001b[0m\n\u001b[1;32m   2114\u001b[0m             \u001b[0;32mwith\u001b[0m \u001b[0mself\u001b[0m\u001b[0;34m.\u001b[0m\u001b[0mbuiltin_trap\u001b[0m\u001b[0;34m:\u001b[0m\u001b[0;34m\u001b[0m\u001b[0m\n\u001b[0;32m-> 2115\u001b[0;31m                 \u001b[0mresult\u001b[0m \u001b[0;34m=\u001b[0m \u001b[0mfn\u001b[0m\u001b[0;34m(\u001b[0m\u001b[0mmagic_arg_s\u001b[0m\u001b[0;34m,\u001b[0m \u001b[0mcell\u001b[0m\u001b[0;34m)\u001b[0m\u001b[0;34m\u001b[0m\u001b[0m\n\u001b[0m\u001b[1;32m   2116\u001b[0m             \u001b[0;32mreturn\u001b[0m \u001b[0mresult\u001b[0m\u001b[0;34m\u001b[0m\u001b[0m\n\u001b[1;32m   2117\u001b[0m \u001b[0;34m\u001b[0m\u001b[0m\n",
      "\u001b[0;32m<decorator-gen-58>\u001b[0m in \u001b[0;36mtimeit\u001b[0;34m(self, line, cell)\u001b[0m\n",
      "\u001b[0;32m/home/ian/anaconda3/lib/python3.5/site-packages/IPython/core/magic.py\u001b[0m in \u001b[0;36m<lambda>\u001b[0;34m(f, *a, **k)\u001b[0m\n\u001b[1;32m    186\u001b[0m     \u001b[0;31m# but it's overkill for just that one bit of state.\u001b[0m\u001b[0;34m\u001b[0m\u001b[0;34m\u001b[0m\u001b[0m\n\u001b[1;32m    187\u001b[0m     \u001b[0;32mdef\u001b[0m \u001b[0mmagic_deco\u001b[0m\u001b[0;34m(\u001b[0m\u001b[0marg\u001b[0m\u001b[0;34m)\u001b[0m\u001b[0;34m:\u001b[0m\u001b[0;34m\u001b[0m\u001b[0m\n\u001b[0;32m--> 188\u001b[0;31m         \u001b[0mcall\u001b[0m \u001b[0;34m=\u001b[0m \u001b[0;32mlambda\u001b[0m \u001b[0mf\u001b[0m\u001b[0;34m,\u001b[0m \u001b[0;34m*\u001b[0m\u001b[0ma\u001b[0m\u001b[0;34m,\u001b[0m \u001b[0;34m**\u001b[0m\u001b[0mk\u001b[0m\u001b[0;34m:\u001b[0m \u001b[0mf\u001b[0m\u001b[0;34m(\u001b[0m\u001b[0;34m*\u001b[0m\u001b[0ma\u001b[0m\u001b[0;34m,\u001b[0m \u001b[0;34m**\u001b[0m\u001b[0mk\u001b[0m\u001b[0;34m)\u001b[0m\u001b[0;34m\u001b[0m\u001b[0m\n\u001b[0m\u001b[1;32m    189\u001b[0m \u001b[0;34m\u001b[0m\u001b[0m\n\u001b[1;32m    190\u001b[0m         \u001b[0;32mif\u001b[0m \u001b[0mcallable\u001b[0m\u001b[0;34m(\u001b[0m\u001b[0marg\u001b[0m\u001b[0;34m)\u001b[0m\u001b[0;34m:\u001b[0m\u001b[0;34m\u001b[0m\u001b[0m\n",
      "\u001b[0;32m/home/ian/anaconda3/lib/python3.5/site-packages/IPython/core/magics/execution.py\u001b[0m in \u001b[0;36mtimeit\u001b[0;34m(self, line, cell)\u001b[0m\n\u001b[1;32m   1047\u001b[0m                     \u001b[0;32mbreak\u001b[0m\u001b[0;34m\u001b[0m\u001b[0m\n\u001b[1;32m   1048\u001b[0m                 \u001b[0mnumber\u001b[0m \u001b[0;34m*=\u001b[0m \u001b[0;36m10\u001b[0m\u001b[0;34m\u001b[0m\u001b[0m\n\u001b[0;32m-> 1049\u001b[0;31m         \u001b[0mall_runs\u001b[0m \u001b[0;34m=\u001b[0m \u001b[0mtimer\u001b[0m\u001b[0;34m.\u001b[0m\u001b[0mrepeat\u001b[0m\u001b[0;34m(\u001b[0m\u001b[0mrepeat\u001b[0m\u001b[0;34m,\u001b[0m \u001b[0mnumber\u001b[0m\u001b[0;34m)\u001b[0m\u001b[0;34m\u001b[0m\u001b[0m\n\u001b[0m\u001b[1;32m   1050\u001b[0m         \u001b[0mbest\u001b[0m \u001b[0;34m=\u001b[0m \u001b[0mmin\u001b[0m\u001b[0;34m(\u001b[0m\u001b[0mall_runs\u001b[0m\u001b[0;34m)\u001b[0m \u001b[0;34m/\u001b[0m \u001b[0mnumber\u001b[0m\u001b[0;34m\u001b[0m\u001b[0m\n\u001b[1;32m   1051\u001b[0m \u001b[0;34m\u001b[0m\u001b[0m\n",
      "\u001b[0;32m/home/ian/anaconda3/lib/python3.5/timeit.py\u001b[0m in \u001b[0;36mrepeat\u001b[0;34m(self, repeat, number)\u001b[0m\n\u001b[1;32m    204\u001b[0m         \u001b[0mr\u001b[0m \u001b[0;34m=\u001b[0m \u001b[0;34m[\u001b[0m\u001b[0;34m]\u001b[0m\u001b[0;34m\u001b[0m\u001b[0m\n\u001b[1;32m    205\u001b[0m         \u001b[0;32mfor\u001b[0m \u001b[0mi\u001b[0m \u001b[0;32min\u001b[0m \u001b[0mrange\u001b[0m\u001b[0;34m(\u001b[0m\u001b[0mrepeat\u001b[0m\u001b[0;34m)\u001b[0m\u001b[0;34m:\u001b[0m\u001b[0;34m\u001b[0m\u001b[0m\n\u001b[0;32m--> 206\u001b[0;31m             \u001b[0mt\u001b[0m \u001b[0;34m=\u001b[0m \u001b[0mself\u001b[0m\u001b[0;34m.\u001b[0m\u001b[0mtimeit\u001b[0m\u001b[0;34m(\u001b[0m\u001b[0mnumber\u001b[0m\u001b[0;34m)\u001b[0m\u001b[0;34m\u001b[0m\u001b[0m\n\u001b[0m\u001b[1;32m    207\u001b[0m             \u001b[0mr\u001b[0m\u001b[0;34m.\u001b[0m\u001b[0mappend\u001b[0m\u001b[0;34m(\u001b[0m\u001b[0mt\u001b[0m\u001b[0;34m)\u001b[0m\u001b[0;34m\u001b[0m\u001b[0m\n\u001b[1;32m    208\u001b[0m         \u001b[0;32mreturn\u001b[0m \u001b[0mr\u001b[0m\u001b[0;34m\u001b[0m\u001b[0m\n",
      "\u001b[0;32m/home/ian/anaconda3/lib/python3.5/site-packages/IPython/core/magics/execution.py\u001b[0m in \u001b[0;36mtimeit\u001b[0;34m(self, number)\u001b[0m\n\u001b[1;32m    137\u001b[0m         \u001b[0mgc\u001b[0m\u001b[0;34m.\u001b[0m\u001b[0mdisable\u001b[0m\u001b[0;34m(\u001b[0m\u001b[0;34m)\u001b[0m\u001b[0;34m\u001b[0m\u001b[0m\n\u001b[1;32m    138\u001b[0m         \u001b[0;32mtry\u001b[0m\u001b[0;34m:\u001b[0m\u001b[0;34m\u001b[0m\u001b[0m\n\u001b[0;32m--> 139\u001b[0;31m             \u001b[0mtiming\u001b[0m \u001b[0;34m=\u001b[0m \u001b[0mself\u001b[0m\u001b[0;34m.\u001b[0m\u001b[0minner\u001b[0m\u001b[0;34m(\u001b[0m\u001b[0mit\u001b[0m\u001b[0;34m,\u001b[0m \u001b[0mself\u001b[0m\u001b[0;34m.\u001b[0m\u001b[0mtimer\u001b[0m\u001b[0;34m)\u001b[0m\u001b[0;34m\u001b[0m\u001b[0m\n\u001b[0m\u001b[1;32m    140\u001b[0m         \u001b[0;32mfinally\u001b[0m\u001b[0;34m:\u001b[0m\u001b[0;34m\u001b[0m\u001b[0m\n\u001b[1;32m    141\u001b[0m             \u001b[0;32mif\u001b[0m \u001b[0mgcold\u001b[0m\u001b[0;34m:\u001b[0m\u001b[0;34m\u001b[0m\u001b[0m\n",
      "\u001b[0;32m<magic-timeit>\u001b[0m in \u001b[0;36minner\u001b[0;34m(_it, _timer)\u001b[0m\n",
      "\u001b[0;32m<ipython-input-10-5ec0b4f4819b>\u001b[0m in \u001b[0;36mD_update\u001b[0;34m(t, f, j)\u001b[0m\n\u001b[1;32m      7\u001b[0m     \u001b[0mb\u001b[0m \u001b[0;34m=\u001b[0m \u001b[0mcfld\u001b[0m\u001b[0;34m\u001b[0m\u001b[0m\n\u001b[1;32m      8\u001b[0m     \u001b[0mc\u001b[0m \u001b[0;34m=\u001b[0m \u001b[0;36m1\u001b[0m \u001b[0;34m-\u001b[0m \u001b[0;36m2\u001b[0m\u001b[0;34m*\u001b[0m\u001b[0mcfld\u001b[0m\u001b[0;34m\u001b[0m\u001b[0m\n\u001b[0;32m----> 9\u001b[0;31m     \u001b[0mf\u001b[0m\u001b[0;34m[\u001b[0m\u001b[0mt\u001b[0m\u001b[0;34m,\u001b[0m\u001b[0mj\u001b[0m\u001b[0;34m]\u001b[0m \u001b[0;34m=\u001b[0m \u001b[0ma\u001b[0m\u001b[0;34m*\u001b[0m\u001b[0mf\u001b[0m\u001b[0;34m[\u001b[0m\u001b[0mt\u001b[0m\u001b[0;34m-\u001b[0m\u001b[0;36m1\u001b[0m\u001b[0;34m,\u001b[0m\u001b[0mj\u001b[0m\u001b[0;34m-\u001b[0m\u001b[0;36m1\u001b[0m\u001b[0;34m]\u001b[0m\u001b[0;34m+\u001b[0m\u001b[0mc\u001b[0m\u001b[0;34m*\u001b[0m\u001b[0mf\u001b[0m\u001b[0;34m[\u001b[0m\u001b[0mt\u001b[0m\u001b[0;34m-\u001b[0m\u001b[0;36m1\u001b[0m\u001b[0;34m,\u001b[0m\u001b[0mj\u001b[0m\u001b[0;34m]\u001b[0m\u001b[0;34m+\u001b[0m\u001b[0mb\u001b[0m\u001b[0;34m*\u001b[0m\u001b[0mf\u001b[0m\u001b[0;34m[\u001b[0m\u001b[0mt\u001b[0m\u001b[0;34m-\u001b[0m\u001b[0;36m1\u001b[0m\u001b[0;34m,\u001b[0m\u001b[0mj\u001b[0m\u001b[0;34m+\u001b[0m\u001b[0;36m1\u001b[0m\u001b[0;34m]\u001b[0m\u001b[0;34m\u001b[0m\u001b[0m\n\u001b[0m\u001b[1;32m     10\u001b[0m \u001b[0;34m\u001b[0m\u001b[0m\n\u001b[1;32m     11\u001b[0m \u001b[0;34m\u001b[0m\u001b[0m\n",
      "\u001b[0;31mKeyboardInterrupt\u001b[0m: "
     ]
    }
   ],
   "source": [
    "%%timeit\n",
    "for t in range(1,Nsteps):\n",
    "    #Dirichlet Boundary Conditions\n",
    "    f[t-1,0] = PHI\n",
    "    f[t-1,-1] = PHI\n",
    "    # Updating \n",
    "#     if t % 500 == 0:\n",
    "#         print(t)\n",
    "    for j in range(1,NX-1):\n",
    "        D_update(t,f,j)\n"
   ]
  },
  {
   "cell_type": "code",
   "execution_count": null,
   "metadata": {
    "collapsed": false
   },
   "outputs": [],
   "source": [
    "(4 * Nsteps*NX)/(5)*10**-9"
   ]
  },
  {
   "cell_type": "code",
   "execution_count": null,
   "metadata": {
    "collapsed": false
   },
   "outputs": [],
   "source": [
    "plt.plot(x,f[-2])\n",
    "# plt.ylim([0,1])\n",
    "plt.show()"
   ]
  },
  {
   "cell_type": "code",
   "execution_count": null,
   "metadata": {
    "collapsed": false
   },
   "outputs": [],
   "source": [
    "cfld"
   ]
  },
  {
   "cell_type": "code",
   "execution_count": null,
   "metadata": {
    "collapsed": false
   },
   "outputs": [],
   "source": [
    "# As  matrix\n",
    "T = np.zeros([NX+2,NX+2])\n",
    "print(T.shape)\n",
    "a = cfld\n",
    "b=cfld\n",
    "c=1-2*cfld\n",
    "for n in range(1,NX+1):\n",
    "    T[n][n-1]=a\n",
    "    T[n][n]=c\n",
    "    T[n][n+1]=b\n",
    "    \n",
    "T[0][0] = 1\n",
    "T[-1][-1] = 1\n",
    "print(T)\n",
    "Nsteps = 30000\n",
    "f = np.zeros([Nsteps, NX+2])\n",
    "\n",
    "x = np.linspace(1,NX,NX+2)*dx\n",
    "f[0,0] = PHI\n",
    "f[0,-1] = PHI\n"
   ]
  },
  {
   "cell_type": "code",
   "execution_count": null,
   "metadata": {
    "collapsed": false
   },
   "outputs": [],
   "source": [
    "%%timeit\n",
    "for t in range(1,Nsteps):\n",
    "#     print((np.dot(T,f[t-1]).shape))\n",
    "    f[t] = np.dot(T,f[t-1])\n"
   ]
  },
  {
   "cell_type": "code",
   "execution_count": null,
   "metadata": {
    "collapsed": false
   },
   "outputs": [],
   "source": [
    "plt.plot(x,f[-2])\n",
    "# plt.ylim([0,1])\n",
    "plt.show()"
   ]
  },
  {
   "cell_type": "code",
   "execution_count": null,
   "metadata": {
    "collapsed": false
   },
   "outputs": [],
   "source": [
    "NX"
   ]
  },
  {
   "cell_type": "code",
   "execution_count": null,
   "metadata": {
    "collapsed": false
   },
   "outputs": [],
   "source": [
    "%%time\n",
    "print(T.shape)\n",
    "print(np.linalg.matrix_power(T,5000))\n",
    "print(np.dot(np.linalg.matrix_power(T,5000),f[0]))"
   ]
  },
  {
   "cell_type": "markdown",
   "metadata": {},
   "source": [
    "## Now 2D"
   ]
  },
  {
   "cell_type": "code",
   "execution_count": 12,
   "metadata": {
    "collapsed": true
   },
   "outputs": [],
   "source": [
    "def D_2D_update(t,f,i,j):\n",
    "    a = cfld\n",
    "    b = cfld\n",
    "    c = 1-4*cfld\n",
    "    f[t,i,j]  = a*f[t-1,i-1,j]+b*f[t-1,i+1,j]\n",
    "    f[t,i,j] += a*f[t-1,i,j-1]+b*f[t-1,i,j+1]\n",
    "    f[t,i,j] += c*f[t-1,i,j]"
   ]
  },
  {
   "cell_type": "code",
   "execution_count": null,
   "metadata": {
    "collapsed": false,
    "scrolled": false
   },
   "outputs": [],
   "source": [
    "from scipy.stats import multivariate_normal\n",
    "from mpl_toolkits.mplot3d import Axes3D\n",
    "\n",
    "\n",
    "Nsteps = 4000\n",
    "NX = 100\n",
    "sizex  = 1.0 \n",
    "dif    = 1.0 \n",
    "\n",
    "\n",
    "dx    = sizex/float(NX-1)\n",
    "\n",
    "\n",
    "x = np.linspace(0,1,NX)\n",
    "f = np.zeros([Nsteps,NX,NX])\n",
    "PHI = 50\n",
    "D = 1\n",
    "# h \n",
    "cfld = .2\n",
    "\n",
    "\n",
    "#Parameters to set\n",
    "mu_x = np.mean(x)\n",
    "variance_x = .1\n",
    "\n",
    "mu_y = np.mean(x)\n",
    "variance_y = .1\n",
    "\n",
    "\n",
    "X, Y = np.meshgrid(x,x)\n",
    "pos = np.empty(X.shape + (2,))\n",
    "pos[:, :, 0] = X; pos[:, :, 1] = Y\n",
    "rv = multivariate_normal([mu_x, mu_y], [[variance_x, 0], [0, variance_y]])\n",
    "\n",
    "f[0]+=rv.pdf(pos)/np.max(rv.pdf(pos))*70\n",
    "f[0,0,:]  = PHI\n",
    "f[0,-1,:] = PHI\n",
    "f[0,:,0]  = PHI\n",
    "f[0,:,-1] = PHI\n",
    "\n",
    "# im=plt.imshow(data[None], aspect='auto',cmap=cmap, norm=norm)\n",
    "# cbar = plt.colorbar(im)\n",
    "# cbar\n",
    "plt.imshow(f[0],vmin=0,vmax=70)\n",
    "plt.colorbar()\n",
    "plt.show()\n",
    "\n",
    "def new_f_2D(Nsteps, NX, PHI):\n",
    "    f = np.zeros([Nsteps,NX,NX])\n",
    "    f[0]+=rv.pdf(pos)/np.max(rv.pdf(pos))*70\n",
    "    f[0,0,:]  = PHI\n",
    "    f[0,-1,:] = PHI\n",
    "    f[0,:,0]  = PHI\n",
    "    f[0,:,-1] = PHI\n",
    "    return f\n",
    "def loop_2D(f,PHI,Nsteps, NX):\n",
    "    for t in range(1,Nsteps):\n",
    "        #Dirichlet Boundary Conditions\n",
    "        f[t-1,0,:]  = PHI\n",
    "        f[t-1,-1,:] = PHI\n",
    "        f[t-1,:,0]  = PHI\n",
    "        f[t-1,:,-1] = PHI\n",
    "        # Updating \n",
    "        for i in range(1,NX-1):\n",
    "            for j in range(1,NX-1):\n",
    "                D_2D_update(t,f,i,j)"
   ]
  },
  {
   "cell_type": "code",
   "execution_count": 14,
   "metadata": {
    "collapsed": false
   },
   "outputs": [
    {
     "data": {
      "image/png": "[encoded data removed]",
      "text/plain": [
       "<matplotlib.figure.Figure at 0x7f49189b1940>"
      ]
     },
     "metadata": {},
     "output_type": "display_data"
    },
    {
     "data": {
      "image/png": "[encoded data removed]",
      "text/plain": [
       "<matplotlib.figure.Figure at 0x7f49189b5d68>"
      ]
     },
     "metadata": {},
     "output_type": "display_data"
    },
    {
     "ename": "NameError",
     "evalue": "name 'diag' is not defined",
     "output_type": "error",
     "traceback": [
      "\u001b[0;31m---------------------------------------------------------------------------\u001b[0m",
      "\u001b[0;31mNameError\u001b[0m                                 Traceback (most recent call last)",
      "\u001b[0;32m<ipython-input-14-3036a21d497d>\u001b[0m in \u001b[0;36m<module>\u001b[0;34m()\u001b[0m\n\u001b[1;32m      7\u001b[0m \u001b[0mplt\u001b[0m\u001b[0;34m.\u001b[0m\u001b[0mcolorbar\u001b[0m\u001b[0;34m(\u001b[0m\u001b[0;34m)\u001b[0m\u001b[0;34m\u001b[0m\u001b[0m\n\u001b[1;32m      8\u001b[0m \u001b[0mplt\u001b[0m\u001b[0;34m.\u001b[0m\u001b[0mshow\u001b[0m\u001b[0;34m(\u001b[0m\u001b[0;34m)\u001b[0m\u001b[0;34m\u001b[0m\u001b[0m\n\u001b[0;32m----> 9\u001b[0;31m \u001b[0mdiag\u001b[0m\u001b[0;34m(\u001b[0m\u001b[0mx\u001b[0m\u001b[0;34m,\u001b[0m\u001b[0mf\u001b[0m\u001b[0;34m)\u001b[0m\u001b[0;34m\u001b[0m\u001b[0m\n\u001b[0m",
      "\u001b[0;31mNameError\u001b[0m: name 'diag' is not defined"
     ]
    }
   ],
   "source": [
    "\n",
    "loop_2D(f,PHI, Nsteps, NX)\n",
    "plt.imshow(f[0],vmin=0,vmax=70)\n",
    "plt.colorbar()\n",
    "plt.show()\n",
    "plt.imshow(f[-2],vmin=0,vmax=70)\n",
    "plt.colorbar()\n",
    "plt.show()\n",
    "diag(x,f)"
   ]
  },
  {
   "cell_type": "code",
   "execution_count": null,
   "metadata": {
    "collapsed": true
   },
   "outputs": [],
   "source": [
    "def calc_H(f,dx):\n",
    "    tot = 0\n",
    "    for i in f.flatten():\n",
    "        tot += i*i*dx\n",
    "    return tot\n",
    "def calc_M0(f):\n",
    "    return np.sum(f)\n",
    "def calc_M1(f,x):\n",
    "    return np.sum(f,x)\n",
    "\n",
    "def norm(x):\n",
    "    np.array(x)\n",
    "    x/=np.max(x)\n",
    "    return x\n",
    "def diag(x,f):\n",
    "    dx = x[1]-x[0]\n",
    "    list_H = []\n",
    "    list_M0 = []\n",
    "    list_M1 = []\n",
    "    for i in range(len(f)-1):\n",
    "        list_H.append(calc_H(f[i][1:-1],dx))\n",
    "        list_M0.append(calc_M0(f[i][1:-1]))\n",
    "    #     list_M1.append(calc_M1(f[i][1:-1],x))\n",
    "    plt.figure(figsize =(9,9))\n",
    "    plt.plot(list(range(len(f)-1)),norm(list_H),'k',lw=5 , label = r\"$H_2$\")\n",
    "    plt.plot(list(range(len(f)-1)),norm(list_M0),':',lw=5 , label = r\"$M_0$\")\n",
    "    # plt.plot(list(range(len(f))),norm(list_M1),'--',lw=5 , label = r\"$M_1$\")\n",
    "    fs = 20\n",
    "    plt.ylabel(\"Normalized Value\",fontsize =fs)\n",
    "    plt.legend(fontsize = fs)\n",
    "\n",
    "    plt.xlabel(\"Time step\",fontsize = fs)\n",
    "    plt.show()\n"
   ]
  },
  {
   "cell_type": "code",
   "execution_count": null,
   "metadata": {
    "collapsed": true
   },
   "outputs": [],
   "source": [
    "f_0_bound = new_f_2D(300, 100,0)\n",
    "loop_2D(f_0_bound,0, 300, 100)\n"
   ]
  },
  {
   "cell_type": "code",
   "execution_count": null,
   "metadata": {
    "collapsed": false
   },
   "outputs": [],
   "source": [
    "plt.imshow(f_0_bound[0],vmin=0,vmax=np.max(f_0_bound))\n",
    "plt.colorbar()\n",
    "plt.show()\n",
    "plt.imshow(f_0_bound[-2],vmin=0,vmax=np.max(f_0_bound))\n",
    "plt.colorbar()\n",
    "plt.show()\n",
    "diag(x,f)"
   ]
  },
  {
   "cell_type": "markdown",
   "metadata": {
    "collapsed": true
   },
   "source": [
    "# Plots for problem 1"
   ]
  },
  {
   "cell_type": "code",
   "execution_count": null,
   "metadata": {
    "collapsed": true
   },
   "outputs": [],
   "source": []
  },
  {
   "cell_type": "code",
   "execution_count": null,
   "metadata": {
    "collapsed": false
   },
   "outputs": [],
   "source": [
    "kd = np.linspace(0,7.5,100)\n",
    "delta = .49\n",
    "\n",
    "def get_gamma(kd, delta,alpha):\n",
    "#     alpha = delta # alpha < 2*delta\n",
    "    C =  np.cos(kd) -1\n",
    "    S = np.sin(kd)\n",
    "    gamma = np.log((1+2*delta * C)**2+alpha**2*S**2)\n",
    "    return gamma\n",
    "kd = np.linspace(3,3.2,100)\n",
    "\n",
    "plt.plot(kd,get_gamma(kd,delta**2/2,delta))\n",
    "\n",
    "# plt.plot(kd,get_gamma(kd,delta,delta))\n",
    "# plt.xlim([3,3.20])\n",
    "# plt.ylim([-.1,.1])"
   ]
  },
  {
   "cell_type": "markdown",
   "metadata": {},
   "source": [
    "Ok so $\\alpha$ doesn't affect the zeros so we'll use $\\alpha = \\delta$"
   ]
  },
  {
   "cell_type": "code",
   "execution_count": null,
   "metadata": {
    "collapsed": false
   },
   "outputs": [],
   "source": [
    "plt.figure(figsize=(16,9))\n",
    "for delta in [.01,.1,.3,.49,.5,.8]:\n",
    "    plt.plot(kd,get_gamma(kd,delta,delta),label=delta,lw=2)\n",
    "plt.plot([0,7],[0,0],'k',lw=4)\n",
    "plt.legend()"
   ]
  },
  {
   "cell_type": "code",
   "execution_count": null,
   "metadata": {
    "collapsed": false
   },
   "outputs": [],
   "source": [
    "alpha = np.linspace(0,1,100)\n",
    "gamma = alpha/2\n",
    "gamma_2 = alpha**2/2\n",
    "plt.plot(alpha,gamma)\n",
    "plt.plot(alpha,gamma_2)"
   ]
  },
  {
   "cell_type": "code",
   "execution_count": null,
   "metadata": {
    "collapsed": false
   },
   "outputs": [],
   "source": [
    "U = 1\n",
    "d = 1\n",
    "D = .2\n",
    "k = np.linspace(0,1,100)\n",
    "h = 1\n",
    "omega_r_discrete  = U*k / (1-D*h*k**2/2)\n",
    "plt.plot(k, omega_r_discrete)\n",
    "plt.plot(k, U*k)"
   ]
  },
  {
   "cell_type": "code",
   "execution_count": null,
   "metadata": {
    "collapsed": true
   },
   "outputs": [],
   "source": []
  }
 ],
 "metadata": {
  "anaconda-cloud": {},
  "kernelspec": {
   "display_name": "Python [Root]",
   "language": "python",
   "name": "Python [Root]"
  },
  "language_info": {
   "codemirror_mode": {
    "name": "ipython",
    "version": 3
   },
   "file_extension": ".py",
   "mimetype": "text/x-python",
   "name": "python",
   "nbconvert_exporter": "python",
   "pygments_lexer": "ipython3",
   "version": "3.5.2"
  }
 },
 "nbformat": 4,
 "nbformat_minor": 2
}
